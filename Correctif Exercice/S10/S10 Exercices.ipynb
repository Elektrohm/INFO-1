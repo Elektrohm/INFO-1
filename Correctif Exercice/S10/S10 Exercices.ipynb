{
 "cells": [
  {
   "cell_type": "markdown",
   "metadata": {},
   "source": [
    "# <center> S10 Exercices :"
   ]
  },
  {
   "cell_type": "markdown",
   "metadata": {},
   "source": [
    "# QCM "
   ]
  },
  {
   "cell_type": "markdown",
   "metadata": {},
   "source": [
    "1) Putain de giraffe de merde, je comprends rien. T'inquiète pas gamin, on va utiliser PythonTutor. <br>\n",
    "http://pythontutor.com/visualize.html#code=class%20Animal%3A%0A%0A%20%20def%20__init__%28self%29%3A%0A%20%20%20%20self.__estCarnivore%20%3D%20True%0A%0A%20%20def%20__str__%28self%29%3A%0A%20%20%20%20if%20self.__estCarnivore%3A%0A%20%20%20%20%20%20return%20'Je%20mange%20de%20la%20viande'%0A%20%20%20%20else%20%3A%0A%20%20%20%20%20%20return%20'Je%20ne%20mange%20pas%20de%20viande'%0A%0Aclass%20Girafe%28Animal%29%3A%0A%0A%20%20def%20__init__%28self%29%3A%0A%20%20%20%20super%28%29.__init__%28%29%0A%20%20%20%20self.__estCarnivore%20%3D%20False%0A%0A%0Agirafe%20%3D%20Girafe%28%29%0Aprint%28girafe%29&cumulative=false&curInstr=0&heapPrimitives=nevernest&mode=display&origin=opt-frontend.js&py=3&rawInputLstJSON=%5B%5D&textReferences=false"
   ]
  },
  {
   "cell_type": "markdown",
   "metadata": {},
   "source": [
    "2) Voilà pourquoi ça marchait pas, c'est con quand même python. <br>\n",
    "3) L'une d'entre elle ne marche pas à cause du @classmethods, si vous le retirez ça marche. <br>\n",
    "4) Le jeu des portées des variables, puisque self.estCarnivore est public, on reprend celui de la classe fille lors de l'appel. <br>\n",
    "5) Y a pas de quoi casser 3 pattes à un canard <br>\n",
    "6) Attention à bien faire de l'héritage et à ne pas définir de nouveau paramètre. <br>\n",
    "7) J'ai rien à dire, des questions ? <br>\n",
    "8) Une variable de classe est partagée entre tous les objets de la classe. C'est un peu comme le communisme, le marteau il est pour tout le monde."
   ]
  },
  {
   "cell_type": "markdown",
   "metadata": {},
   "source": [
    "# Question 1 "
   ]
  },
  {
   "cell_type": "code",
   "execution_count": 4,
   "metadata": {},
   "outputs": [
    {
     "name": "stdout",
     "output_type": "stream",
     "text": [
      "# mis juste pour éviter que ça crash ici\n"
     ]
    }
   ],
   "source": [
    "import unittest\n",
    "import random\n",
    "\n",
    "class RandomTest(unittest.TestCase):\n",
    "    \"\"\"Clases de test utilisé pour tester les fonctions du module 'random'\"\"\"\n",
    "\n",
    "    def setUp(self):\n",
    "        \"\"\"Initialisation des tests.\"\"\"\n",
    "        self.l = list(range(10))\n",
    "\n",
    "    def test_choice(self):\n",
    "        \"\"\"Test de fonctionnement de la fonction random.choice\"\"\"\n",
    "        e = random.choice(self.l)\n",
    "        # Vérifie que 'e' est dans 'l'\n",
    "        self.assertIn(e,self.l)\n",
    "\n",
    "    def test_shuffle(self):\n",
    "        \"\"\"Test le fonctionnement de la fonction random.shuffle\"\"\"\n",
    "        random.shuffle(self.l)\n",
    "        self.l.sort()\n",
    "        self.assertEqual(self.l, list(range(10)))\n",
    "\n",
    "    def test_sample(self):\n",
    "        \"\"\"Test le fonctionnement de la fonction random.sample\"\"\"\n",
    "        extrait = random.sample(self.l, 5)\n",
    "        for element in extrait:\n",
    "            self.assertIn(element,self.l)\n",
    "        self.assertRaises(ValueError, random.sample, self.l, 20)\n",
    "\n",
    "# To automatically launch this test when executing this file\n",
    "if __name__ == '__main__':\n",
    "    print(\"# mis juste pour éviter que ça crash ici\")\n",
    "    #unittest.main()"
   ]
  },
  {
   "cell_type": "markdown",
   "metadata": {},
   "source": [
    "- **Expliquez cet extrait de code :**"
   ]
  },
  {
   "cell_type": "code",
   "execution_count": null,
   "metadata": {},
   "outputs": [],
   "source": [
    "if __name__ == '__main__':\n",
    "    unittest.main()"
   ]
  },
  {
   "cell_type": "markdown",
   "metadata": {},
   "source": [
    "Ce code permet d'exécuter les tests uniquement quand on exécute directement le fichier contenant cette classe mais pas si il est importé depuis un autre module."
   ]
  },
  {
   "cell_type": "markdown",
   "metadata": {},
   "source": [
    "- **Expliquez le rôle de import unittest et pourquoi c'est indispensable.**"
   ]
  },
  {
   "cell_type": "markdown",
   "metadata": {},
   "source": [
    "Cet import de module permet d'importer les fonctionalités de tests unitaires. Entre autres la classe unittest.TestCase dont la classe test RandomTest doit hériter."
   ]
  },
  {
   "cell_type": "markdown",
   "metadata": {},
   "source": [
    "- **Expliquez cette ligne class RandomTest(unittest.TestCase): et pourquoi c'est indispensable.**"
   ]
  },
  {
   "cell_type": "markdown",
   "metadata": {},
   "source": [
    "On hérite de la classe TestCase du module unittest. Cette classe est donc un TestCase et permet d'utiliser toutes les fonctionnalités comme les méthodes assert* des tests unitaires."
   ]
  },
  {
   "cell_type": "markdown",
   "metadata": {},
   "source": [
    "### Sur base du contenu du cours ou en lisant https://docs.python.org/3/library/unittest.html pour plus d'information, expliquez ce que font ces méthodes :"
   ]
  },
  {
   "cell_type": "code",
   "execution_count": null,
   "metadata": {},
   "outputs": [],
   "source": [
    "def setUp(self)"
   ]
  },
  {
   "cell_type": "markdown",
   "metadata": {},
   "source": [
    "Les tests peuvent être nombreux, et leur mise en place peut être répétitive. Heureusement, nous pouvons factoriser le code de configuration en implémentant une méthode appelée setUp(), que le cadre de test appellera automatiquement pour chaque test que nous effectuons."
   ]
  },
  {
   "cell_type": "code",
   "execution_count": null,
   "metadata": {},
   "outputs": [],
   "source": [
    "self.assertEqual()"
   ]
  },
  {
   "cell_type": "markdown",
   "metadata": {},
   "source": [
    "assertEqual(first, second, msg=None) :\n",
    "\n",
    "Test que le premier et le second sont égaux. Si les valeurs ne sont pas égales, le test échouera.\n",
    "\n",
    "En outre, si first et second sont exactement du même type et sont de type list, tuple, dict, set, frozenset ou str ou tout autre type qu'une sous-classe enregistre avec addTypeEqualityFunc(), la fonction d'égalité spécifique au type sera appelée afin de générer un message d'erreur par défaut plus utile (voir également la liste des méthodes spécifiques au type)."
   ]
  },
  {
   "cell_type": "code",
   "execution_count": null,
   "metadata": {},
   "outputs": [],
   "source": [
    "self.assertIn(a,b)"
   ]
  },
  {
   "cell_type": "markdown",
   "metadata": {},
   "source": [
    "Verifie que a est dans b"
   ]
  },
  {
   "cell_type": "code",
   "execution_count": null,
   "metadata": {},
   "outputs": [],
   "source": [
    "self.assertRaises()"
   ]
  },
  {
   "cell_type": "markdown",
   "metadata": {},
   "source": [
    "Test qu'une exception est levée lorsque le callable est appelé avec tout argument positionnel ou mot-clé qui est également passé à assertRaises(). Le test passe si l'exception est levée, est une erreur si une autre exception est levée, ou échoue si aucune exception n'est levée. Pour attraper une exception d'un groupe d'exceptions, un tuple contenant les classes d'exception peut être passé comme exception."
   ]
  },
  {
   "cell_type": "markdown",
   "metadata": {},
   "source": [
    "# Question 2 "
   ]
  },
  {
   "cell_type": "markdown",
   "metadata": {},
   "source": [
    "#### Implémentez une classe de tests unitaires MyClassTest qui hérite de unittest.TestCase qui teste la fonction carre_parfait du module totest. (En mathématiques, un carré parfait est le carré d'un entier.)"
   ]
  },
  {
   "cell_type": "markdown",
   "metadata": {},
   "source": [
    "Soit la fonction carre_parfait du module totest ayant pour spécifications :"
   ]
  },
  {
   "cell_type": "code",
   "execution_count": 9,
   "metadata": {},
   "outputs": [],
   "source": [
    "def carre_parfait (x) :\n",
    "    '''\n",
    "    retourne true si l'entier en argument est un carré parfait, false sinon\n",
    "    '''\n",
    "# CODE NON FOURNI"
   ]
  },
  {
   "cell_type": "markdown",
   "metadata": {},
   "source": [
    "#### Complétez la classe de test ci-dessous :"
   ]
  },
  {
   "cell_type": "code",
   "execution_count": null,
   "metadata": {},
   "outputs": [],
   "source": [
    "import totest\n",
    "import unittest\n",
    "\n",
    "class MyClassTest(unittest.TestCase) :\n",
    "\n",
    "    # todo\n",
    "\n",
    "if __name__ == '__main__':\n",
    "    unittest.main()"
   ]
  },
  {
   "cell_type": "markdown",
   "metadata": {},
   "source": [
    "- **Ecrivez au moins trois tests unitaires pour vérifier l'implémentation de cette fonction**"
   ]
  },
  {
   "cell_type": "code",
   "execution_count": 12,
   "metadata": {},
   "outputs": [],
   "source": [
    "import totest\n",
    "import unittest\n",
    "\n",
    "class MyClassTest(unittest.TestCase):\n",
    "    def test_carre(self):\n",
    "        for x in [9,16,144]:\n",
    "            self.assertEqual(totest.carre_parfait(x), True)\n",
    "\n",
    "    def test_pas_carre(self):\n",
    "        for x in [2,7,13,42]:\n",
    "            self.assertEqual(totest.carre_parfait(x), False)\n",
    "\n",
    "    def test_special_case(self):\n",
    "        for x in [0,1]:\n",
    "            self.assertEqual(totest.carre_parfait(x), True)\n",
    "\n",
    "    def test_negative(self):\n",
    "        for x in [-4,-5,-9]:\n",
    "            self.assertEqual(totest.carre_parfait(x), False)"
   ]
  },
  {
   "cell_type": "markdown",
   "metadata": {},
   "source": [
    "- **Que donnent-vos tests unitaires pour les implémentations suivantes :**"
   ]
  },
  {
   "cell_type": "code",
   "execution_count": 1,
   "metadata": {},
   "outputs": [],
   "source": [
    "def carre_parfait(x):\n",
    "    return True"
   ]
  },
  {
   "cell_type": "markdown",
   "metadata": {},
   "source": [
    "On va avoir 2 tests réussis et 2 tests ratés. Note à moi-même, tu as fais un document pycharm avec tous les tests, montre-leur malin."
   ]
  },
  {
   "cell_type": "markdown",
   "metadata": {},
   "source": [
    "![jokerURL](https://media.giphy.com/media/AwoDg0wJImOjK/giphy.gif \"joker\")"
   ]
  },
  {
   "cell_type": "code",
   "execution_count": 3,
   "metadata": {},
   "outputs": [],
   "source": [
    "def carre_parfait (x) :\n",
    "    return False"
   ]
  },
  {
   "cell_type": "markdown",
   "metadata": {},
   "source": [
    "On va avoir 2 tests réussis et 2 tests ratés"
   ]
  },
  {
   "cell_type": "code",
   "execution_count": 5,
   "metadata": {},
   "outputs": [],
   "source": [
    "def carre_parfait (x) :\n",
    "    cur = 0\n",
    "    while not cur*cur == x :\n",
    "        cur += 1\n",
    "    return True"
   ]
  },
  {
   "cell_type": "markdown",
   "metadata": {},
   "source": [
    "Il va réussir le premier test, mais après il va tourner jusqu'à la destruction de l'univers car il produit une boucle infinie"
   ]
  },
  {
   "cell_type": "code",
   "execution_count": 6,
   "metadata": {},
   "outputs": [],
   "source": [
    "import math\n",
    "def carre_parfait (x) :\n",
    "    root = math.sqrt(x)\n",
    "    return root.is_integer()"
   ]
  },
  {
   "cell_type": "markdown",
   "metadata": {},
   "source": [
    "Il va en réussir 3 sur 4, pour les nombres négatifs, il va vous dire **пошел на хуй, научись кодировать**. Ce qui bien évidemment veut dire **ValueError: math domain error**"
   ]
  },
  {
   "cell_type": "markdown",
   "metadata": {},
   "source": [
    "![daURL](https://media.giphy.com/media/xUPGcIP68uc9yWXNuM/giphy.gif \"da\")"
   ]
  },
  {
   "cell_type": "code",
   "execution_count": 8,
   "metadata": {},
   "outputs": [],
   "source": [
    "import math\n",
    "def carre_parfait (x) :\n",
    "    if x < 0 : return False\n",
    "    root = math.sqrt(x)\n",
    "    return root.is_integer()"
   ]
  },
  {
   "cell_type": "markdown",
   "metadata": {},
   "source": [
    "![workURL](https://media.giphy.com/media/Mab1lyzb70X0YiNLUj/giphy.gif \"work\")"
   ]
  },
  {
   "cell_type": "markdown",
   "metadata": {},
   "source": [
    "# Question 3 "
   ]
  },
  {
   "cell_type": "markdown",
   "metadata": {},
   "source": [
    "#### Va rechercher l'énoncé sur inginious ou le syllabus, flemme de recopier tout l'énoncé écrit. Je suis pas un petit esclave mais un tuteur, la différence c'est que je suis payé."
   ]
  },
  {
   "cell_type": "markdown",
   "metadata": {},
   "source": [
    "![finisURL](https://media.giphy.com/media/8UF0EXzsc0Ckg/giphy.gif \"finis\")"
   ]
  },
  {
   "cell_type": "markdown",
   "metadata": {},
   "source": [
    "# <center> Et voilà c'est fini pour ajd, je reste évidemment là pour des questions"
   ]
  }
 ],
 "metadata": {
  "kernelspec": {
   "display_name": "Python 3",
   "language": "python",
   "name": "python3"
  },
  "language_info": {
   "codemirror_mode": {
    "name": "ipython",
    "version": 3
   },
   "file_extension": ".py",
   "mimetype": "text/x-python",
   "name": "python",
   "nbconvert_exporter": "python",
   "pygments_lexer": "ipython3",
   "version": "3.8.6"
  }
 },
 "nbformat": 4,
 "nbformat_minor": 4
}
