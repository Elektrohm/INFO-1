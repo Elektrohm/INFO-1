{
 "cells": [
  {
   "cell_type": "markdown",
   "metadata": {},
   "source": [
    "# <center> S6 Exercices Corrigés : "
   ]
  },
  {
   "cell_type": "markdown",
   "metadata": {},
   "source": [
    "# QCM "
   ]
  },
  {
   "cell_type": "markdown",
   "metadata": {},
   "source": [
    "- Bien lire la documentation et se rappeler que \"\\n\" fait un retour à la ligne. write() ne fait pas de retour à la ligne à la fin de son exécution comme le fait un print(). \n",
    "- open(filename, arg) peut être appelé avec différent arg à savoir \"w\", \"r\", \"x\", ... aller voir les infos dans la documentation python.\n",
    "- Quel est la différence entre readlines(), read() ? <br>\n",
    "$\\textbf{readlines() retourne une liste et read() retourne un string !}$ <br>\n",
    "- Faites attention que les lignes que vous pouvez lire en ouvrant le fichier seront toujours des strings même si elle comporte des nombres"
   ]
  },
  {
   "cell_type": "code",
   "execution_count": 1,
   "metadata": {},
   "outputs": [],
   "source": [
    "file = open(\"test.txt\",'w')\n",
    "file.write(\"4, 5, 6\\n7, 8, 9\\n\")\n",
    "file.close()"
   ]
  },
  {
   "cell_type": "code",
   "execution_count": 2,
   "metadata": {},
   "outputs": [
    {
     "name": "stdout",
     "output_type": "stream",
     "text": [
      "la ligne est : 4, 5, 6\n",
      "et son type est <class 'str'>\n",
      "la ligne est : 7, 8, 9\n",
      "et son type est <class 'str'>\n"
     ]
    }
   ],
   "source": [
    "test = open(\"test.txt\",\"r\")\n",
    "for line in test:\n",
    "    print(\"la ligne est : {}et son type est {}\".format(line,type(line)))\n",
    "test.close()"
   ]
  },
  {
   "cell_type": "markdown",
   "metadata": {},
   "source": [
    "- Pour savoir quel type d'erreur peut être rencontré lors de l'exécution d'une fonction, il faut aller voir sa documentation (et oui, encore :/ )"
   ]
  },
  {
   "cell_type": "markdown",
   "metadata": {},
   "source": [
    "#### Vous avez vu une façon d'ouvrir des fichiers :"
   ]
  },
  {
   "cell_type": "code",
   "execution_count": 3,
   "metadata": {},
   "outputs": [
    {
     "name": "stdout",
     "output_type": "stream",
     "text": [
      "['4, 5, 6\\n', '7, 8, 9\\n']\n"
     ]
    }
   ],
   "source": [
    "file = open(\"test.txt\",\"r\")\n",
    "print(file.readlines())\n",
    "file.close()"
   ]
  },
  {
   "cell_type": "markdown",
   "metadata": {},
   "source": [
    "Cependant, elle comporte un inconvénient que vous avez lu dans les lectures de la semaine. Quel est-il ? "
   ]
  },
  {
   "cell_type": "markdown",
   "metadata": {},
   "source": [
    "![spongebobUrl](https://media.giphy.com/media/lKXEBR8m1jWso/giphy.gif \"spongebob\")"
   ]
  },
  {
   "cell_type": "markdown",
   "metadata": {},
   "source": [
    "#### Un problème du code présent est que le fichier ne se ferme pas si l'on rencontre une erreur (oh no ! Please god no !). Mais pas de panique super with est là ! "
   ]
  },
  {
   "cell_type": "code",
   "execution_count": 4,
   "metadata": {},
   "outputs": [
    {
     "name": "stdout",
     "output_type": "stream",
     "text": [
      "4, 5, 6\n",
      "7, 8, 9\n"
     ]
    }
   ],
   "source": [
    "with open('test.txt') as file:\n",
    "    for line in file:\n",
    "        print(line, end='')"
   ]
  },
  {
   "cell_type": "markdown",
   "metadata": {},
   "source": [
    "# Question 1"
   ]
  },
  {
   "cell_type": "markdown",
   "metadata": {},
   "source": [
    "#### Considérez le code suivant, expliquez le résultat :"
   ]
  },
  {
   "cell_type": "code",
   "execution_count": 5,
   "metadata": {},
   "outputs": [
    {
     "name": "stdout",
     "output_type": "stream",
     "text": [
      "['X ', 'X ', '']\n",
      "['', 'X']\n",
      "['XX', '', 'X']\n"
     ]
    }
   ],
   "source": [
    "#juste pour pouvoir mettre le code, vous inquiétez pas :)\n",
    "jupyterPasContent = open(\"file.txt\",\"w\")\n",
    "jupyterPasContent.write(\"X ,X ,\\n ,X\\nXX,,X\")\n",
    "jupyterPasContent.close()\n",
    "\n",
    "#le code de l'énoncé :\n",
    "file = open ( \"file.txt\", \"r\" )\n",
    "for line in file:\n",
    "    print  ( line.strip ().split (\",\") )\n",
    "file.close ()"
   ]
  },
  {
   "cell_type": "markdown",
   "metadata": {},
   "source": [
    "$ \\textbf{Faites attention à bien comprendre lors des opérations !}$ .split() effectué avant ou après .strip() ?"
   ]
  },
  {
   "cell_type": "code",
   "execution_count": 6,
   "metadata": {},
   "outputs": [],
   "source": [
    "#petit code pour prouver l'ordre :) \n",
    "stripOuSplit = open(\"bwoah.txt\",\"w\")\n",
    "stripOuSplit.write('corona 0.5,0.5 est \\nvraiment 0.1,0.3 une \\nsaloperie 0.4,0.5 corona')\n",
    "stripOuSplit.close()"
   ]
  },
  {
   "cell_type": "markdown",
   "metadata": {},
   "source": [
    "Si split() est effectué en **premier**, on devrait avoir une erreur car .split() retourne une liste mais une liste **n'a pas** de fonction .strip() ! "
   ]
  },
  {
   "cell_type": "code",
   "execution_count": 7,
   "metadata": {},
   "outputs": [
    {
     "ename": "AttributeError",
     "evalue": "'list' object has no attribute 'strip'",
     "output_type": "error",
     "traceback": [
      "\u001b[0;31m---------------------------------------------------------------------------\u001b[0m",
      "\u001b[0;31mAttributeError\u001b[0m                            Traceback (most recent call last)",
      "\u001b[0;32m<ipython-input-7-226d7095c7f4>\u001b[0m in \u001b[0;36m<module>\u001b[0;34m\u001b[0m\n\u001b[1;32m      1\u001b[0m \u001b[0;32mwith\u001b[0m \u001b[0mopen\u001b[0m\u001b[0;34m(\u001b[0m\u001b[0;34m\"bwoah.txt\"\u001b[0m\u001b[0;34m,\u001b[0m \u001b[0;34m\"r\"\u001b[0m \u001b[0;34m)\u001b[0m \u001b[0;32mas\u001b[0m \u001b[0mfile\u001b[0m\u001b[0;34m:\u001b[0m\u001b[0;34m\u001b[0m\u001b[0;34m\u001b[0m\u001b[0m\n\u001b[1;32m      2\u001b[0m     \u001b[0;32mfor\u001b[0m \u001b[0mline\u001b[0m \u001b[0;32min\u001b[0m \u001b[0mfile\u001b[0m\u001b[0;34m:\u001b[0m\u001b[0;34m\u001b[0m\u001b[0;34m\u001b[0m\u001b[0m\n\u001b[0;32m----> 3\u001b[0;31m         \u001b[0mprint\u001b[0m  \u001b[0;34m(\u001b[0m \u001b[0mline\u001b[0m\u001b[0;34m.\u001b[0m\u001b[0msplit\u001b[0m\u001b[0;34m(\u001b[0m\u001b[0;34m\"\\n\"\u001b[0m\u001b[0;34m)\u001b[0m\u001b[0;34m.\u001b[0m\u001b[0mstrip\u001b[0m\u001b[0;34m(\u001b[0m\u001b[0;34m\"corona\"\u001b[0m\u001b[0;34m)\u001b[0m \u001b[0;34m)\u001b[0m\u001b[0;34m\u001b[0m\u001b[0;34m\u001b[0m\u001b[0m\n\u001b[0m",
      "\u001b[0;31mAttributeError\u001b[0m: 'list' object has no attribute 'strip'"
     ]
    }
   ],
   "source": [
    "with open(\"bwoah.txt\", \"r\" ) as file:\n",
    "    for line in file:\n",
    "        print  ( line.split(\"\\n\").strip(\"corona\") )"
   ]
  },
  {
   "cell_type": "markdown",
   "metadata": {},
   "source": [
    "![knewitUrl](https://media.giphy.com/media/iJaOEjkRk3jRdTvJyo/giphy.gif \"knewit\")"
   ]
  },
  {
   "cell_type": "markdown",
   "metadata": {},
   "source": [
    "Si strip() est effectué en **premier**, on devrait avoir le corona au début qui disparait et celui à la fin aussi "
   ]
  },
  {
   "cell_type": "code",
   "execution_count": 8,
   "metadata": {},
   "outputs": [
    {
     "name": "stdout",
     "output_type": "stream",
     "text": [
      "[' 0.5,0.5 est ', '']\n",
      "['vraiment 0.1,0.3 une ', '']\n",
      "['saloperie 0.4,0.5 ']\n"
     ]
    }
   ],
   "source": [
    "with open(\"bwoah.txt\", \"r\" ) as file:\n",
    "    for line in file:\n",
    "        print (line.strip(\"corona\").split(\"\\n\"))"
   ]
  },
  {
   "cell_type": "markdown",
   "metadata": {},
   "source": [
    "### Retenez bien qu'on lit ce genre d'expression de gauche à droite !  "
   ]
  },
  {
   "cell_type": "markdown",
   "metadata": {},
   "source": [
    "Petite question pour vous dans ce cas, quelle est la sortie de ce code ? "
   ]
  },
  {
   "cell_type": "code",
   "execution_count": 9,
   "metadata": {},
   "outputs": [],
   "source": [
    "l = \"cEcI eSt\\n uN TeSt \\n pOuR VoUs \\neMmErDeR\"\n",
    "question = l.lower().strip(\"ceci\").split(\"\\n\")\n",
    "#print(question)"
   ]
  },
  {
   "cell_type": "markdown",
   "metadata": {},
   "source": [
    "Pas de triche, tapper pas comme ça derrière votre pc :"
   ]
  },
  {
   "cell_type": "markdown",
   "metadata": {},
   "source": [
    "![catUrl](https://media.giphy.com/media/LmNwrBhejkK9EFP504/giphy.gif \"cat\")"
   ]
  },
  {
   "cell_type": "code",
   "execution_count": 10,
   "metadata": {},
   "outputs": [
    {
     "name": "stdout",
     "output_type": "stream",
     "text": [
      "[' est', ' un test ', ' pour vous ', 'emmerder']\n"
     ]
    }
   ],
   "source": [
    "print(question)"
   ]
  },
  {
   "cell_type": "markdown",
   "metadata": {},
   "source": [
    "# Question 2  "
   ]
  },
  {
   "cell_type": "markdown",
   "metadata": {},
   "source": [
    "#### Créez une fonction line_count(filename) qui retourne, pour le nom d'un fichier donné, le nombre de lignes dans le fichier."
   ]
  },
  {
   "cell_type": "code",
   "execution_count": 11,
   "metadata": {},
   "outputs": [],
   "source": [
    "def line_count(filename):\n",
    "    \"\"\"\n",
    "    pre : filename, le chemin d'accès au document à lire\n",
    "    post : retourne le nombre de ligne dans le fichier \n",
    "    \"\"\"\n",
    "    file = open ( filename, \"r\" )\n",
    "    cnt = 0\n",
    "    for line in file:\n",
    "        cnt += 1\n",
    "    file.close ()\n",
    "    return cnt"
   ]
  },
  {
   "cell_type": "markdown",
   "metadata": {},
   "source": [
    "#### Créez une fonction char_count(filename) qui retourne, pour le nom d'un fichier donné, le nombre de caractères dans le fichier."
   ]
  },
  {
   "cell_type": "code",
   "execution_count": 12,
   "metadata": {},
   "outputs": [],
   "source": [
    "def char_count(filename):\n",
    "    \"\"\"\n",
    "    pre : filename, le chemin d'accès au document à lire\n",
    "    post : retourne le nombre de caractères dans le fichier\n",
    "    \"\"\"\n",
    "    file = open ( filename, \"r\" )\n",
    "    cnt = 0\n",
    "    for line in file:\n",
    "        cnt += len(line)\n",
    "    file.close ()\n",
    "    return cnt"
   ]
  },
  {
   "cell_type": "markdown",
   "metadata": {},
   "source": [
    "#### Créez une fonction space(filename,n) qui crée un nouveau fichier filename qui se compose seulement de n espaces."
   ]
  },
  {
   "cell_type": "code",
   "execution_count": 13,
   "metadata": {},
   "outputs": [],
   "source": [
    "def space(filename,n):\n",
    "    \"\"\"\n",
    "    pre : filename, le nom du nouveau fichier que l'on crée \n",
    "    post : crée un fichier filename composé seulement de n espaces\n",
    "    \"\"\"\n",
    "    file = open ( filename, \"w\" )\n",
    "    s = \"\"\n",
    "    for i in range(n):\n",
    "        s += \" \"\n",
    "    file.write ( s )\n",
    "    file.close ()"
   ]
  },
  {
   "cell_type": "markdown",
   "metadata": {},
   "source": [
    "#### Créez une fonction capitalize(filename_in,filename_out) qui crée, pour le fichier filename_in, un nouveau fichier filename_out, dans lequel tous les caractères sont en majuscule."
   ]
  },
  {
   "cell_type": "code",
   "execution_count": 14,
   "metadata": {},
   "outputs": [],
   "source": [
    "def capitalize(filename_in,filename_out):\n",
    "    \"\"\"\n",
    "    pre : - filename_in, le nom d'un fichier\n",
    "          - filename_out, le nom du fichier\n",
    "    post : crée une fichier filename_out dans lequel tous les caractères de filename_in sont en majuscule\n",
    "    \"\"\"\n",
    "    file_in = open ( filename_in, \"r\" )\n",
    "    file_out = open ( filename_out, \"w\")\n",
    "    for line in file_in:\n",
    "        file_out.write ( line.upper () )\n",
    "    file_in.close ()\n",
    "    file_out.close ()"
   ]
  },
  {
   "cell_type": "markdown",
   "metadata": {},
   "source": [
    "![obamaUrl](https://media.giphy.com/media/3o7qDEq2bMbcbPRQ2c/giphy.gif \"obama\")"
   ]
  },
  {
   "cell_type": "markdown",
   "metadata": {},
   "source": [
    "# Question 3"
   ]
  },
  {
   "cell_type": "markdown",
   "metadata": {},
   "source": [
    "On donne des listes contenant des paires de coordonnées comme [(0.5,0.5),(0.1,0.3),(0.4,0.5)]."
   ]
  },
  {
   "cell_type": "markdown",
   "metadata": {},
   "source": [
    "#### Ecrivez une fonction write_coordinates(filename, l) pour créer un fichier qui contient les coordonnées de la liste l dans le format suivant: "
   ]
  },
  {
   "cell_type": "markdown",
   "metadata": {},
   "source": [
    "0.5, 0.5<br>\n",
    "0.1,0.3<br>\n",
    "0.4,0.5<br>"
   ]
  },
  {
   "cell_type": "code",
   "execution_count": 15,
   "metadata": {},
   "outputs": [],
   "source": [
    "def write_coordinates(filename,l):\n",
    "    file = open(filename,\"w\")\n",
    "    index = len(l)\n",
    "    for x, y in l:\n",
    "        if index != 1:\n",
    "            file.write ( str(x) + \",\" + str(y) + \"\\n\" )\n",
    "        else:\n",
    "            file.write(str(x)+\",\"+str(y))\n",
    "        index-=1\n",
    "    file.close()"
   ]
  },
  {
   "cell_type": "markdown",
   "metadata": {},
   "source": [
    "#### Écrivez une fonction read_coordinates(filename) qui lit les coordonnées du fichier filename, dans le format ci-dessus, et retourne une liste de tuples, comme donnée."
   ]
  },
  {
   "cell_type": "markdown",
   "metadata": {},
   "source": [
    "Pensez à utiliser les méthodes des string comme par exemple, les fonctions suivantes :\n",
    "- format\n",
    "- split\n",
    "- strip\n",
    "- rstrip"
   ]
  },
  {
   "cell_type": "code",
   "execution_count": 16,
   "metadata": {},
   "outputs": [],
   "source": [
    "def read_coordinates(filename):\n",
    "    l = []\n",
    "    file = open (filename,\"r\")\n",
    "    for line in file:\n",
    "        x, y = line.split ( \",\" )\n",
    "        l.append ((float(x),float(y)))\n",
    "    return l"
   ]
  },
  {
   "cell_type": "markdown",
   "metadata": {},
   "source": [
    "**Watch out !** <br>Remarquez que l'on met float(x)/float(y) dans le tuple sinon on aurait un tuple de string"
   ]
  },
  {
   "cell_type": "markdown",
   "metadata": {},
   "source": [
    "# Question 4 "
   ]
  },
  {
   "cell_type": "markdown",
   "metadata": {},
   "source": [
    "#### Considérez le code suivant et dites quelles sont les erreurs possibles lors d'exécutions"
   ]
  },
  {
   "cell_type": "code",
   "execution_count": 17,
   "metadata": {},
   "outputs": [
    {
     "name": "stdout",
     "output_type": "stream",
     "text": [
      "Enter your command: divide 10 0\n"
     ]
    },
    {
     "ename": "ZeroDivisionError",
     "evalue": "float division by zero",
     "output_type": "error",
     "traceback": [
      "\u001b[0;31m---------------------------------------------------------------------------\u001b[0m",
      "\u001b[0;31mZeroDivisionError\u001b[0m                         Traceback (most recent call last)",
      "\u001b[0;32m<ipython-input-17-e5200252b6d2>\u001b[0m in \u001b[0;36m<module>\u001b[0;34m\u001b[0m\n\u001b[1;32m      2\u001b[0m \u001b[0mparameters\u001b[0m \u001b[0;34m=\u001b[0m \u001b[0mcommand\u001b[0m\u001b[0;34m.\u001b[0m\u001b[0msplit\u001b[0m \u001b[0;34m(\u001b[0m\u001b[0;34m)\u001b[0m\u001b[0;34m\u001b[0m\u001b[0;34m\u001b[0m\u001b[0m\n\u001b[1;32m      3\u001b[0m \u001b[0;32mif\u001b[0m \u001b[0mparameters\u001b[0m\u001b[0;34m[\u001b[0m\u001b[0;36m0\u001b[0m\u001b[0;34m]\u001b[0m \u001b[0;34m==\u001b[0m \u001b[0;34m\"divide\"\u001b[0m\u001b[0;34m:\u001b[0m\u001b[0;34m\u001b[0m\u001b[0;34m\u001b[0m\u001b[0m\n\u001b[0;32m----> 4\u001b[0;31m     \u001b[0mprint\u001b[0m \u001b[0;34m(\u001b[0m \u001b[0;34m\"The value of your division is: \"\u001b[0m \u001b[0;34m+\u001b[0m \u001b[0mstr\u001b[0m \u001b[0;34m(\u001b[0m \u001b[0mfloat\u001b[0m\u001b[0;34m(\u001b[0m\u001b[0mparameters\u001b[0m\u001b[0;34m[\u001b[0m\u001b[0;36m1\u001b[0m\u001b[0;34m]\u001b[0m\u001b[0;34m)\u001b[0m\u001b[0;34m/\u001b[0m\u001b[0mfloat\u001b[0m\u001b[0;34m(\u001b[0m\u001b[0mparameters\u001b[0m\u001b[0;34m[\u001b[0m\u001b[0;36m2\u001b[0m\u001b[0;34m]\u001b[0m\u001b[0;34m)\u001b[0m\u001b[0;34m)\u001b[0m\u001b[0;34m)\u001b[0m\u001b[0;34m\u001b[0m\u001b[0;34m\u001b[0m\u001b[0m\n\u001b[0m\u001b[1;32m      5\u001b[0m \u001b[0;32melse\u001b[0m\u001b[0;34m:\u001b[0m\u001b[0;34m\u001b[0m\u001b[0;34m\u001b[0m\u001b[0m\n\u001b[1;32m      6\u001b[0m     \u001b[0;32mif\u001b[0m \u001b[0mparameters\u001b[0m\u001b[0;34m[\u001b[0m\u001b[0;36m0\u001b[0m\u001b[0;34m]\u001b[0m \u001b[0;34m==\u001b[0m \u001b[0;34m\"showfile\"\u001b[0m\u001b[0;34m:\u001b[0m\u001b[0;34m\u001b[0m\u001b[0;34m\u001b[0m\u001b[0m\n",
      "\u001b[0;31mZeroDivisionError\u001b[0m: float division by zero"
     ]
    }
   ],
   "source": [
    "command = input ( \"Enter your command: \" )\n",
    "parameters = command.split ()\n",
    "if parameters[0] == \"divide\":\n",
    "    print ( \"The value of your division is: \" + str ( float(parameters[1])/float(parameters[2])))\n",
    "else: \n",
    "    if parameters[0] == \"showfile\":\n",
    "        file = open ( parameters[1] )\n",
    "        print ( file.read () )\n",
    "        file.close ()\n",
    "    else:\n",
    "        print ( \"Command not recognized\")"
   ]
  },
  {
   "cell_type": "markdown",
   "metadata": {},
   "source": [
    "![carnageUrl](https://media.giphy.com/media/3o6ZtmalJVY1v0FiYo/giphy.gif \"carnage\")"
   ]
  },
  {
   "cell_type": "markdown",
   "metadata": {},
   "source": [
    "##### La division par 0 était évidente, quelles sont les autres possibles ?"
   ]
  },
  {
   "cell_type": "markdown",
   "metadata": {},
   "source": [
    "- l'utilisateur ne donne pas le nombre de paramètre nécessaire (divide 10)\n",
    "- le type des paramètres n'est pas correct\n",
    "- le fichier à montrer n'existe pas \n",
    "- la commande n'existe pas"
   ]
  },
  {
   "cell_type": "markdown",
   "metadata": {},
   "source": [
    "#### Rattrapez le code de ce Meles meles communément appelé blaireau à l'aide d'un bloc try except pour attraper les exceptions d'une façon générique. Donnez un message générique There was an error dans ce cas. Attention à la fermeture du fichier en cas d'erreur !"
   ]
  },
  {
   "cell_type": "code",
   "execution_count": 18,
   "metadata": {},
   "outputs": [
    {
     "name": "stdout",
     "output_type": "stream",
     "text": [
      "Enter your command : divide 10 0\n",
      "There was an error\n"
     ]
    }
   ],
   "source": [
    "command = input(\"Enter your command : \") #ligne à ne pas noter sur inginious\n",
    "parameters = command.split ()\n",
    "try: # ajouté\n",
    "    if parameters[0] == \"divide\":\n",
    "        print ( \"The value of your division is: {0}\".format ( float(parameters[1])/float(parameters[2])))\n",
    "    else: \n",
    "        if parameters[0] == \"showfile\":\n",
    "            with open ( parameters[1] ) as file:  # modifié\n",
    "                print ( file.read () )\n",
    "        else:\n",
    "            raise Exception ( \"Command not recognized\" ) # modifié\n",
    "except:\n",
    "    print ( \"There was an error\" )"
   ]
  },
  {
   "cell_type": "markdown",
   "metadata": {},
   "source": [
    "#### Essayer d'orienter l'utilisateur sur son erreur en faisant différent except pour vérifier chaque erreur différente"
   ]
  },
  {
   "cell_type": "code",
   "execution_count": 19,
   "metadata": {},
   "outputs": [
    {
     "name": "stdout",
     "output_type": "stream",
     "text": [
      "Enter your command: divide 10 0\n",
      "Division by zero\n"
     ]
    }
   ],
   "source": [
    "command = input ( \"Enter your command: \" )\n",
    "parameters = command.split ()\n",
    "try: # ajouté\n",
    "    if parameters[0] == \"divide\":\n",
    "        print ( \"The value of your division is: {0}\".format ( float(parameters[1])/float(parameters[2])))\n",
    "    elif parameters[0] == \"showfile\":\n",
    "        with open ( parameters[1] ) as file:  # modifié\n",
    "            print ( file.read () )\n",
    "    else:\n",
    "        raise Exception ( \"Command not recognized\" )\n",
    "except ValueError: # paramètre de type incorrect\n",
    "    print ( \"An incorrect parameter was given\" )\n",
    "except FileNotFoundError:\n",
    "    print ( \"The file was not found\" )\n",
    "except IndexError:\n",
    "    print ( \"Incorrect number of parameters specified\")\n",
    "except ZeroDivisionError:\n",
    "    print ( \"Division by zero\" )\n",
    "except Exception as message:\n",
    "    print ( message )"
   ]
  },
  {
   "cell_type": "markdown",
   "metadata": {},
   "source": [
    "# Question 5 "
   ]
  },
  {
   "cell_type": "markdown",
   "metadata": {},
   "source": [
    "#### Dans la mission, vous devrez lire un fichier qui contient des mots avec leur fréquence d'occurrence. Par exemple: "
   ]
  },
  {
   "cell_type": "markdown",
   "metadata": {},
   "source": [
    "this,5146<br>\n",
    "that,10790<br>\n",
    "these,1575<br>\n",
    "the,69975<br>\n",
    "those,864<br>"
   ]
  },
  {
   "cell_type": "markdown",
   "metadata": {},
   "source": [
    "#### Identifiez les différentes erreurs que l'on pourrait rencontrer en lisant ce fichier. Il n'est pas nécessaire d'identifier les noms exacts des erreurs; il suffit de les décrire en mots."
   ]
  },
  {
   "cell_type": "markdown",
   "metadata": {},
   "source": [
    "![turnUrl](https://media.giphy.com/media/27sT7J8QTn4ITbFqmZ/giphy.gif \"turn\")"
   ]
  },
  {
   "cell_type": "markdown",
   "metadata": {},
   "source": [
    "# <center> Merci de votre attention particulière à RADIO LINFO1101<br> la radio qui amène l'informatique dans vos campagnes !"
   ]
  },
  {
   "cell_type": "markdown",
   "metadata": {},
   "source": [
    "![questionUrl](https://media.giphy.com/media/xT5LMB2WiOdjpB7K4o/giphy.gif \"question\")"
   ]
  }
 ],
 "metadata": {
  "kernelspec": {
   "display_name": "Python 3",
   "language": "python",
   "name": "python3"
  },
  "language_info": {
   "codemirror_mode": {
    "name": "ipython",
    "version": 3
   },
   "file_extension": ".py",
   "mimetype": "text/x-python",
   "name": "python",
   "nbconvert_exporter": "python",
   "pygments_lexer": "ipython3",
   "version": "3.6.11"
  }
 },
 "nbformat": 4,
 "nbformat_minor": 4
}
