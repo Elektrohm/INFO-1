{
 "cells": [
  {
   "cell_type": "markdown",
   "metadata": {},
   "source": [
    "# <center> S7 Exercices Corrigés"
   ]
  },
  {
   "cell_type": "markdown",
   "metadata": {},
   "source": [
    "# QCM"
   ]
  },
  {
   "cell_type": "markdown",
   "metadata": {},
   "source": [
    "1) Faites attention qu'on ne peut pas modifier une variable qui n'est pas existante d[a] = b. Et il faut se rappeler qu'on peut ajouter un élément dans un dictionnaire à l'aide de la notation :"
   ]
  },
  {
   "cell_type": "code",
   "execution_count": 1,
   "metadata": {},
   "outputs": [
    {
     "name": "stdout",
     "output_type": "stream",
     "text": [
      "{'key': 'value'}\n"
     ]
    }
   ],
   "source": [
    "dico = {}\n",
    "dico[\"key\"] = \"value\"\n",
    "print(dico)"
   ]
  },
  {
   "cell_type": "markdown",
   "metadata": {},
   "source": [
    "2) Vous avez vu plusieurs façon d'accéder aux 'values' d'un dictionnaire :<br>\n",
    "- dico['key']\n",
    "- dico.get('key',0) \n",
    "- dico.values ()"
   ]
  },
  {
   "cell_type": "markdown",
   "metadata": {},
   "source": [
    "#### A quoi sert le 0 dans l'argument du get ? Quelle structure de données retourne dico.values() ?   "
   ]
  },
  {
   "cell_type": "markdown",
   "metadata": {},
   "source": [
    "![ahshitURL](https://media.giphy.com/media/8vIFoKU8s4m4CBqCao/giphy.gif 'ahshit')"
   ]
  },
  {
   "cell_type": "markdown",
   "metadata": {},
   "source": [
    "L'argument 0 est la valeur de retour de la fonction get dans le cas où on ne retrouve pas la clef \"key\". <br>\n",
    "dico.values() retourne une liste des values rencontrées"
   ]
  },
  {
   "cell_type": "code",
   "execution_count": 2,
   "metadata": {},
   "outputs": [
    {
     "name": "stdout",
     "output_type": "stream",
     "text": [
      "0\n",
      "dict_values(['value', 'here we go again'])\n"
     ]
    }
   ],
   "source": [
    "print(dico.get('ah shit',0))\n",
    "dico['ah shit'] = 'here we go again'\n",
    "print(dico.values())"
   ]
  },
  {
   "cell_type": "markdown",
   "metadata": {},
   "source": [
    "3) Les dictionnaires ne fonctionne pas avec le même système d'indexation que les listes. Les listes possèdes des indices avec numéro. Tandis que les dictionnaires possèdent des \"keys\", des clefs d'accès aux valeurs. <br>\n",
    "4) Le programme 2 prend moins de données car il ne doit retenir qu'une seule valeur. <br>\n",
    "5) Il faut bien tester soit même, soyez l'éditeur !"
   ]
  },
  {
   "cell_type": "markdown",
   "metadata": {},
   "source": [
    "# Question 1 "
   ]
  },
  {
   "cell_type": "code",
   "execution_count": 3,
   "metadata": {},
   "outputs": [],
   "source": [
    "codes = {\"Bruxelles\" : [1000,1020,1030], \"Louvain-la-Neuve\" : [1348], \"Wavre\": [1300,1301]}"
   ]
  },
  {
   "cell_type": "markdown",
   "metadata": {},
   "source": [
    "#### on fait plusieurs opérations, décrivez quelles sont leur résultat."
   ]
  },
  {
   "cell_type": "code",
   "execution_count": 4,
   "metadata": {},
   "outputs": [
    {
     "name": "stdout",
     "output_type": "stream",
     "text": [
      "[1000, 1020, 1030]\n"
     ]
    }
   ],
   "source": [
    "print(codes[\"Bruxelles\"])"
   ]
  },
  {
   "cell_type": "code",
   "execution_count": 5,
   "metadata": {},
   "outputs": [
    {
     "ename": "KeyError",
     "evalue": "'Mons'",
     "output_type": "error",
     "traceback": [
      "\u001b[1;31m---------------------------------------------------------------------------\u001b[0m",
      "\u001b[1;31mKeyError\u001b[0m                                  Traceback (most recent call last)",
      "\u001b[1;32m<ipython-input-5-d564ec87fa7a>\u001b[0m in \u001b[0;36m<module>\u001b[1;34m\u001b[0m\n\u001b[1;32m----> 1\u001b[1;33m \u001b[0mprint\u001b[0m\u001b[1;33m(\u001b[0m\u001b[0mcodes\u001b[0m\u001b[1;33m[\u001b[0m\u001b[1;34m\"Mons\"\u001b[0m\u001b[1;33m]\u001b[0m\u001b[1;33m)\u001b[0m\u001b[1;33m\u001b[0m\u001b[1;33m\u001b[0m\u001b[0m\n\u001b[0m",
      "\u001b[1;31mKeyError\u001b[0m: 'Mons'"
     ]
    }
   ],
   "source": [
    "print(codes[\"Mons\"])"
   ]
  },
  {
   "cell_type": "markdown",
   "metadata": {},
   "source": [
    "![damageUrl](https://media.giphy.com/media/DR5bwNjZLTHmE/giphy.gif \"damage\")"
   ]
  },
  {
   "cell_type": "code",
   "execution_count": 6,
   "metadata": {},
   "outputs": [
    {
     "ename": "KeyError",
     "evalue": "1000",
     "output_type": "error",
     "traceback": [
      "\u001b[1;31m---------------------------------------------------------------------------\u001b[0m",
      "\u001b[1;31mKeyError\u001b[0m                                  Traceback (most recent call last)",
      "\u001b[1;32m<ipython-input-6-c3114ce86864>\u001b[0m in \u001b[0;36m<module>\u001b[1;34m\u001b[0m\n\u001b[1;32m----> 1\u001b[1;33m \u001b[0mprint\u001b[0m\u001b[1;33m(\u001b[0m\u001b[0mcodes\u001b[0m\u001b[1;33m[\u001b[0m\u001b[1;36m1000\u001b[0m\u001b[1;33m]\u001b[0m\u001b[1;33m)\u001b[0m\u001b[1;33m\u001b[0m\u001b[1;33m\u001b[0m\u001b[0m\n\u001b[0m",
      "\u001b[1;31mKeyError\u001b[0m: 1000"
     ]
    }
   ],
   "source": [
    "print(codes[1000])"
   ]
  },
  {
   "cell_type": "code",
   "execution_count": 7,
   "metadata": {},
   "outputs": [
    {
     "name": "stdout",
     "output_type": "stream",
     "text": [
      "[]\n"
     ]
    }
   ],
   "source": [
    "print(codes.get(\"Mons\",[]))"
   ]
  },
  {
   "cell_type": "code",
   "execution_count": 8,
   "metadata": {},
   "outputs": [
    {
     "name": "stdout",
     "output_type": "stream",
     "text": [
      "{'Bruxelles': [1000, 1020, 1030], 'Louvain-la-Neuve': [1348], 'Wavre': [1300, 1301], 'Liege': [4000]}\n"
     ]
    }
   ],
   "source": [
    "codes[\"Liege\"] = [4000]\n",
    "print(codes)"
   ]
  },
  {
   "cell_type": "code",
   "execution_count": 9,
   "metadata": {},
   "outputs": [
    {
     "name": "stdout",
     "output_type": "stream",
     "text": [
      "{'Bruxelles': [1000, 1020, 1030, 1040], 'Louvain-la-Neuve': [1348], 'Wavre': [1300, 1301], 'Liege': [4000]}\n"
     ]
    }
   ],
   "source": [
    "codes[\"Bruxelles\"].append(1040)\n",
    "print(codes)"
   ]
  },
  {
   "cell_type": "code",
   "execution_count": 10,
   "metadata": {},
   "outputs": [
    {
     "name": "stdout",
     "output_type": "stream",
     "text": [
      "{'Bruxelles': [1000, 1020, 1030, 1040, 1050], 'Louvain-la-Neuve': [1348], 'Wavre': [1300, 1301], 'Liege': [4000]}\n"
     ]
    }
   ],
   "source": [
    "codes.get(\"Bruxelles\",[]).append(1050)\n",
    "print(codes)"
   ]
  },
  {
   "cell_type": "markdown",
   "metadata": {},
   "source": [
    "![whatURL](https://media.giphy.com/media/tu54GM19sqJOw/giphy.gif 'what')"
   ]
  },
  {
   "cell_type": "markdown",
   "metadata": {},
   "source": [
    "Pour comprendre pourquoi ça marche, il faut se rappeler que toute modification sur une liste est sauvegardée. Si vous obtenez la liste et que vous la modifiez, l'état de la liste dans le dictionnaire est aussi modifié."
   ]
  },
  {
   "cell_type": "code",
   "execution_count": 11,
   "metadata": {},
   "outputs": [
    {
     "name": "stdout",
     "output_type": "stream",
     "text": [
      "{'Bruxelles': [1000, 1020, 1030, 1040, 1050], 'Louvain-la-Neuve': [1348], 'Wavre': [1300, 1301], 'Liege': [4000]}\n"
     ]
    }
   ],
   "source": [
    "codes.get(\"Arlon\",[]).append(8362)\n",
    "print(codes)"
   ]
  },
  {
   "cell_type": "markdown",
   "metadata": {},
   "source": [
    "![confusionURL](https://media.giphy.com/media/1oJLpejP9jEvWQlZj4/giphy.gif \"confusion\")"
   ]
  },
  {
   "cell_type": "markdown",
   "metadata": {},
   "source": [
    "**Et ouais, il est passé où Arlon ?**"
   ]
  },
  {
   "cell_type": "markdown",
   "metadata": {},
   "source": [
    "Le dictionnaire ne possédant pas la key \"Arlon\", il a retourné une liste vide sur laquelle vous faites le append. Le code aurait produit une erreur si on avait décidé de renvoyer autre chose qu'une liste vide lorsqu'on ne trouve pas \"Arlon\". Par exemple : "
   ]
  },
  {
   "cell_type": "code",
   "execution_count": 12,
   "metadata": {},
   "outputs": [
    {
     "ename": "AttributeError",
     "evalue": "'str' object has no attribute 'append'",
     "output_type": "error",
     "traceback": [
      "\u001b[1;31m---------------------------------------------------------------------------\u001b[0m",
      "\u001b[1;31mAttributeError\u001b[0m                            Traceback (most recent call last)",
      "\u001b[1;32m<ipython-input-12-c67c9bddd7f0>\u001b[0m in \u001b[0;36m<module>\u001b[1;34m\u001b[0m\n\u001b[1;32m----> 1\u001b[1;33m \u001b[0mprint\u001b[0m\u001b[1;33m(\u001b[0m\u001b[0mcodes\u001b[0m\u001b[1;33m.\u001b[0m\u001b[0mget\u001b[0m\u001b[1;33m(\u001b[0m\u001b[1;34m\"Arlon\"\u001b[0m\u001b[1;33m,\u001b[0m\u001b[1;34m\"erreur incoming\"\u001b[0m\u001b[1;33m)\u001b[0m\u001b[1;33m.\u001b[0m\u001b[0mappend\u001b[0m\u001b[1;33m(\u001b[0m\u001b[1;36m8362\u001b[0m\u001b[1;33m)\u001b[0m\u001b[1;33m)\u001b[0m\u001b[1;33m\u001b[0m\u001b[1;33m\u001b[0m\u001b[0m\n\u001b[0m\u001b[0;32m      2\u001b[0m \u001b[0mprint\u001b[0m\u001b[1;33m(\u001b[0m\u001b[0mcodes\u001b[0m\u001b[1;33m)\u001b[0m\u001b[1;33m\u001b[0m\u001b[1;33m\u001b[0m\u001b[0m\n",
      "\u001b[1;31mAttributeError\u001b[0m: 'str' object has no attribute 'append'"
     ]
    }
   ],
   "source": [
    "print(codes.get(\"Arlon\",\"erreur incoming\").append(8362))\n",
    "print(codes)"
   ]
  },
  {
   "cell_type": "markdown",
   "metadata": {},
   "source": [
    "**Mais vous auriez pu faire :**"
   ]
  },
  {
   "cell_type": "code",
   "execution_count": 13,
   "metadata": {},
   "outputs": [
    {
     "name": "stdout",
     "output_type": "stream",
     "text": [
      "{'Bruxelles': [1000, 1020, 1030, 1040, 1050], 'Louvain-la-Neuve': [1348], 'Wavre': [1300, 1301], 'Liege': [4000]}\n"
     ]
    }
   ],
   "source": [
    "codes.get(\"Arlon\",\"erreur incoming\").split()\n",
    "print(codes)"
   ]
  },
  {
   "cell_type": "code",
   "execution_count": 14,
   "metadata": {},
   "outputs": [
    {
     "name": "stdout",
     "output_type": "stream",
     "text": [
      "Found!\n"
     ]
    }
   ],
   "source": [
    "if \"Bruxelles\" in codes:\n",
    "      print(\"Found!\")\n",
    "else:\n",
    "  print(\"Not found!\")"
   ]
  },
  {
   "cell_type": "code",
   "execution_count": 15,
   "metadata": {},
   "outputs": [
    {
     "name": "stdout",
     "output_type": "stream",
     "text": [
      "Not found!\n"
     ]
    }
   ],
   "source": [
    "if 1000 in codes:\n",
    "      print(\"Found!\")\n",
    "else:\n",
    "  print(\"Not found!\")"
   ]
  },
  {
   "cell_type": "code",
   "execution_count": 16,
   "metadata": {},
   "outputs": [
    {
     "name": "stdout",
     "output_type": "stream",
     "text": [
      "Bruxelles\n",
      "Louvain-la-Neuve\n",
      "Wavre\n",
      "Liege\n"
     ]
    }
   ],
   "source": [
    "for x in codes:\n",
    "    print(x)"
   ]
  },
  {
   "cell_type": "markdown",
   "metadata": {},
   "source": [
    "L'ordre des clefs pourrait être changé, je n'ai jamais eu le cas mais better safe than sorry. Dans l'énoncé, ils disent que les codes sont tous exécutés après la définition de codes. Donc normalement, il n'y a pas le Liege."
   ]
  },
  {
   "cell_type": "code",
   "execution_count": 17,
   "metadata": {},
   "outputs": [
    {
     "name": "stdout",
     "output_type": "stream",
     "text": [
      "[1000, 1020, 1030, 1040, 1050]\n",
      "[1348]\n",
      "[1300, 1301]\n",
      "[4000]\n"
     ]
    }
   ],
   "source": [
    "for x in codes:\n",
    "    print(codes[x])"
   ]
  },
  {
   "cell_type": "markdown",
   "metadata": {},
   "source": [
    "Pareil ici, normalement il n'y a pas de 1040, 1050 et le 4000"
   ]
  },
  {
   "cell_type": "code",
   "execution_count": 18,
   "metadata": {},
   "outputs": [
    {
     "name": "stdout",
     "output_type": "stream",
     "text": [
      "('Bruxelles', [1000, 1020, 1030, 1040, 1050])\n",
      "('Louvain-la-Neuve', [1348])\n",
      "('Wavre', [1300, 1301])\n",
      "('Liege', [4000])\n"
     ]
    }
   ],
   "source": [
    "for x in codes.items():\n",
    "    print(x)"
   ]
  },
  {
   "cell_type": "code",
   "execution_count": 19,
   "metadata": {},
   "outputs": [
    {
     "name": "stdout",
     "output_type": "stream",
     "text": [
      "{'Bruxelles': [1000, 1020, 1030, 1040, 1050], 'Louvain-la-Neuve': [1348], 'Wavre': [1300, 1301], 'Liege': [4000]}\n"
     ]
    }
   ],
   "source": [
    "for x, y in codes.items():\n",
    "    y = y + [2000]\n",
    "print(codes)"
   ]
  },
  {
   "cell_type": "markdown",
   "metadata": {},
   "source": [
    "**Pourquoi est-ce qu'il n'y a pas de changement ?**"
   ]
  },
  {
   "cell_type": "markdown",
   "metadata": {},
   "source": [
    "![crabURL](https://media.giphy.com/media/JUqAx6q2jnQtYvXVB4/giphy.gif \"crab\")"
   ]
  },
  {
   "cell_type": "markdown",
   "metadata": {},
   "source": [
    "y est une variable **locale**, elle deviendra une références pour une nouvelle liste. **Mais composée de quels éléments ?** "
   ]
  },
  {
   "cell_type": "code",
   "execution_count": 20,
   "metadata": {},
   "outputs": [
    {
     "name": "stdout",
     "output_type": "stream",
     "text": [
      "[4000, 2000]\n"
     ]
    }
   ],
   "source": [
    "print(y)"
   ]
  },
  {
   "cell_type": "code",
   "execution_count": 21,
   "metadata": {},
   "outputs": [
    {
     "name": "stdout",
     "output_type": "stream",
     "text": [
      "{'Bruxelles': [1000, 1020, 1030, 1040, 1050, 2000], 'Louvain-la-Neuve': [1348, 2000], 'Wavre': [1300, 1301, 2000], 'Liege': [4000, 2000]}\n"
     ]
    }
   ],
   "source": [
    "for x, y in codes.items():\n",
    "    y.append(2000)\n",
    "print(codes)"
   ]
  },
  {
   "cell_type": "markdown",
   "metadata": {},
   "source": [
    "![travoletaURL](https://media.giphy.com/media/g01ZnwAUvutuK8GIQn/giphy.gif \"travoleta\")"
   ]
  },
  {
   "cell_type": "markdown",
   "metadata": {},
   "source": [
    "#### Quelqu'un peut me dire pourquoi 2000 a été ajouté ?"
   ]
  },
  {
   "cell_type": "markdown",
   "metadata": {},
   "source": [
    "En effet, lorsque vous accédez à y, vous accédez aux listes pour chacune des clefs. Or comme dit précédemment une liste, une fois modifié, reste modifié dans la structure où elle est sauvegardée !"
   ]
  },
  {
   "cell_type": "code",
   "execution_count": 22,
   "metadata": {},
   "outputs": [
    {
     "name": "stdout",
     "output_type": "stream",
     "text": [
      "{'Bruxelles': [1000, 1020, 1030, 1040, 1050, 2000], 'Louvain-la-Neuve': [1348, 2000], 'Wavre': [1300, 1301, 2000], 'Liege': [4000, 2000]}\n"
     ]
    }
   ],
   "source": [
    "for x, y in codes.items():\n",
    "    x = x + \"*\"\n",
    "print(codes)"
   ]
  },
  {
   "cell_type": "markdown",
   "metadata": {},
   "source": [
    "Même histoire que tantôt, x devient une nouvelle référence mais elle pointe vers quoi ?"
   ]
  },
  {
   "cell_type": "code",
   "execution_count": 23,
   "metadata": {},
   "outputs": [
    {
     "name": "stdout",
     "output_type": "stream",
     "text": [
      "Liege*\n"
     ]
    }
   ],
   "source": [
    "print(x)"
   ]
  },
  {
   "cell_type": "markdown",
   "metadata": {},
   "source": [
    "# Question 2"
   ]
  },
  {
   "cell_type": "markdown",
   "metadata": {},
   "source": [
    "Dans les lectures de la semaine, vous avez vu qu'on pouvait à présent représenter des matrices à l'aide de dictionnaire. Par exemple :"
   ]
  },
  {
   "cell_type": "code",
   "execution_count": 24,
   "metadata": {},
   "outputs": [],
   "source": [
    "l = [[0, 2, 4], [4, 1, 0]]\n",
    "d = {(0,1): 2, (0,2): 4, (1,0): 4, (1,1): 1}"
   ]
  },
  {
   "cell_type": "markdown",
   "metadata": {},
   "source": [
    "$$\\begin{pmatrix} 0 & 2 & 4 \\\\ 4 & 1 & 0 \\end{pmatrix}$$"
   ]
  },
  {
   "cell_type": "markdown",
   "metadata": {},
   "source": [
    "#### Écrivez une fonction equal(l,d) qui détermine si d contient les même valeurs que l pour chaque entrée de l. (Nous permettons que d soit plus large que l.)"
   ]
  },
  {
   "cell_type": "code",
   "execution_count": 25,
   "metadata": {},
   "outputs": [],
   "source": [
    "def equal(l,d):\n",
    "    for i in range(len(l)):\n",
    "        for j in range(len(l[i])):\n",
    "            if l[i][j] != d.get((i,j),0):\n",
    "                return False\n",
    "    return True"
   ]
  },
  {
   "cell_type": "code",
   "execution_count": 26,
   "metadata": {},
   "outputs": [
    {
     "data": {
      "text/plain": [
       "True"
      ]
     },
     "execution_count": 26,
     "metadata": {},
     "output_type": "execute_result"
    }
   ],
   "source": [
    "equal(l,d)"
   ]
  },
  {
   "cell_type": "markdown",
   "metadata": {},
   "source": [
    "# Question 3 "
   ]
  },
  {
   "cell_type": "code",
   "execution_count": 27,
   "metadata": {},
   "outputs": [],
   "source": [
    "def create_dictionary(name):\n",
    "    d = {}\n",
    "    with open ( name, \"r\" ) as file:\n",
    "        for line in file:\n",
    "            words = line.strip ().split ()\n",
    "            for word in words:\n",
    "                d[word] = d.get ( word, 0 ) + 1\n",
    "    return d\n",
    "\n",
    "def occ(d, w):\n",
    "    return d.get(w, 0)"
   ]
  },
  {
   "cell_type": "markdown",
   "metadata": {},
   "source": [
    "# Question 4"
   ]
  },
  {
   "cell_type": "code",
   "execution_count": 28,
   "metadata": {},
   "outputs": [],
   "source": [
    "l = [{\"City\": \"Bruxelles\", \"Country\": \"Belgium\"}, \\\n",
    "    {\"City\": \"Berlin\", \"Country\": \"Germany\"}, \\\n",
    "    {\"City\": \"Paris\", \"Country\": \"France\"}]"
   ]
  },
  {
   "cell_type": "markdown",
   "metadata": {},
   "source": [
    "#### Écrivez une fonction get_country(l,name) qui, pour le nom d'une ville name et une structure de données l, retourne le nom du pays dans lequel la ville est localisée. La fonction retourne False si la ville n'est pas dans l."
   ]
  },
  {
   "cell_type": "code",
   "execution_count": 29,
   "metadata": {},
   "outputs": [],
   "source": [
    "def get_country(l,name):\n",
    "    for e in l:\n",
    "        if e[\"City\"] == name:\n",
    "            return e[\"Country\"]\n",
    "    return False"
   ]
  },
  {
   "cell_type": "markdown",
   "metadata": {},
   "source": [
    "Qu'est-ce qu'il ne faut pas oublier quand on fait des fonctions ? Les tester ! "
   ]
  },
  {
   "cell_type": "code",
   "execution_count": 30,
   "metadata": {},
   "outputs": [],
   "source": [
    "assert get_country(l,\"Bruxelles\") == \"Belgium\"\n",
    "assert get_country(l,\"Moskow\") == False"
   ]
  }
 ],
 "metadata": {
  "kernelspec": {
   "display_name": "Python 3",
   "language": "python",
   "name": "python3"
  },
  "language_info": {
   "codemirror_mode": {
    "name": "ipython",
    "version": 3
   },
   "file_extension": ".py",
   "mimetype": "text/x-python",
   "name": "python",
   "nbconvert_exporter": "python",
   "pygments_lexer": "ipython3",
   "version": "3.8.6"
  }
 },
 "nbformat": 4,
 "nbformat_minor": 4
}
