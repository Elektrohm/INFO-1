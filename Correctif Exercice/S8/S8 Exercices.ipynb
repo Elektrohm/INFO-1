{
 "cells": [
  {
   "cell_type": "markdown",
   "metadata": {},
   "source": [
    "# <center> S8 Exercices corrigés :"
   ]
  },
  {
   "cell_type": "markdown",
   "metadata": {},
   "source": [
    "# QCM : "
   ]
  },
  {
   "cell_type": "markdown",
   "metadata": {},
   "source": [
    "1) C'est juste de la théorie, il faut bien lire les documents qui vont sont donnés. <br>\n",
    "2) Un constructeur n'a pas de return, et une méthode de la classe doit avoir l'argument self. <br>\n",
    "3) Rien de spécial\n",
    "4) Que se passe-t-il quand vous faites un f.d ? Il initialise une constante pour l'objet f appelé d avec la valeur 6. <br>\n",
    "5) Attention, le premier argument du constructeur est toujours **self**, on ne retourne pas dans un constructeur et il faut définir self.bisseur. <br>\n",
    "6) Allons visiter l'exécution sur : **http://pythontutor.com/visualize.html#code=class%20Compteur%3A%0A%0A%20%20%20%20def%20__init__%28self,n%29%3A%0A%20%20%20%20%20%20%20%20self.compte%20%3D%20n%0A%0A%20%20%20%20def%20__str__%28self%29%3A%0A%20%20%20%20%20%20%20%20return%20str%28self.valeur%28%29%29%0A%0A%20%20%20%20def%20ajout%28self,n%29%3A%0A%20%20%20%20%20%20%20%20self.compte%20%2B%3D%20n%0A%0A%20%20%20%20def%20valeur%28self%29%3A%0A%20%20%20%20%20%20%20%20return%20self.compte%0A%20%20%20%20%20%20%20%20%0Ac1%20%3D%20Compteur%2810%29%0Ac2%20%3D%20Compteur%2820%29%0Ac1.ajout%285%29%0Aprint%28c1,c2%29%0Ac1.ajout%2810%29%0Ac1%20%3D%20c2%0Ac2.ajout%2820%29%0Aprint%28c1,c2%29%0Ac2%20%3D%20Compteur%280%29%0Aprint%28c1,c2%29&cumulative=false&curInstr=0&heapPrimitives=nevernest&mode=display&origin=opt-frontend.js&py=3&rawInputLstJSON=%5B%5D&textReferences=false** <br>\n",
    "7) méthode sur les strings, y a rien de fameux il faut juste faire attention à $__str__(self)$ <br>\n",
    "8) On va revisiter l'exécution sur : \n",
    "**http://pythontutor.com/visualize.html#code=class%20Drapeau%3A%0A%20%20%20%20%22%22%22%0A%20%20%20%20Une%20classe%20simple%20avec%20un%20objet%20contenant%20un%20bool%C3%A9en.%0A%20%20%20%20%22%22%22%0A%20%20%20%20def%20__init__%20%28self,%20b%29%3A%0A%20%20%20%20%20%20%20%20%22%22%22%0A%20%20%20%20%20%20%20%20%40pre%20%3A%20%20-%0A%20%20%20%20%20%20%20%20%40post%20%3A%20un%20objet%20de%20type%20Drapeau%20est%20cr%C3%A9e%20et%20repr%C3%A9sente%20le%20bool%C3%A9en%20pass%C3%A9%20en%20argument%0A%20%20%20%20%20%20%20%20%22%22%22%0A%20%20%20%20%20%20%20%20self.drapeau%20%3D%20b%0A%0Ad1%20%3D%20Drapeau%28True%29%0Ad2%20%3D%20Drapeau%28True%29%0Ad2%20%3D%20d1%0Ad1.drapeau%20%3D%20False%0Aprint%28d2.drapeau%29%20%20%23%231%23%23%0A%0Ab1%20%3D%20True%0Ab2%20%3D%20False%0Ab2%20%3D%20b1%0Ab1%20%3D%20False%0Aprint%28b2%29%20%20%20%20%20%20%20%20%20%20%23%232%23%23%0A%0Ab1%20%3D%20True%0Ad1%20%3D%20Drapeau%28b1%29%0Ab2%20%3D%20False%0Ad2%20%3D%20Drapeau%28b2%29%0Ab2%20%3D%20b1%0Ab1%20%3D%20False%0Aprint%28d1%29%20%20%20%20%20%20%20%20%20%20%23%233%23%23&cumulative=false&curInstr=30&heapPrimitives=nevernest&mode=display&origin=opt-frontend.js&py=3&rawInputLstJSON=%5B%5D&textReferences=false**"
   ]
  },
  {
   "cell_type": "markdown",
   "metadata": {},
   "source": [
    "# Question 1 (!)"
   ]
  },
  {
   "cell_type": "code",
   "execution_count": 1,
   "metadata": {},
   "outputs": [],
   "source": [
    "class Student :\n",
    "\n",
    "    def __init__(self,n) :\n",
    "        \"\"\"\n",
    "        Initialise un nouvel objet de type Student avec un nom n donné.\n",
    "        @pre:  -\n",
    "        @post: Un objet de type Student a été créé avec comme 'name' n,\n",
    "               et un score None pour chacun des trois tests 'test1', 'test2' et 'test3'\n",
    "        \"\"\"\n",
    "        # nom de l'étudiant\n",
    "        self.name = n\n",
    "        # score reçu par l'étudiant sur trois tests\n",
    "        # (initialement None car l'étudiant n'a pas encore passé les tests)\n",
    "        self.test1 = None\n",
    "        self.test2 = None\n",
    "        self.test3 = None\n",
    "\n",
    "    def average_score(self) :\n",
    "        \"\"\"\"\n",
    "        Calcul du score moyen que l'étudiant a obtenu sur les 3 tests.\n",
    "        @pre: les variables d'instance test1, test2 et test3\n",
    "              contiennent des valeurs de type int\n",
    "        @post: retourne la valeur moyenne de ces trois valeurs\n",
    "        \"\"\"\n",
    "        return (self.test1 + self.test2 + self.test3) / 3"
   ]
  },
  {
   "cell_type": "code",
   "execution_count": 2,
   "metadata": {},
   "outputs": [],
   "source": [
    "student = Student(\"Kim\")\n",
    "student.test1 = 14.0\n",
    "student.test2 = 10.5\n",
    "student.test3 = 12.0\n",
    "print(\"Bonjour, \" + student.name + \". Vos scores sont:\")\n",
    "print(student.test1)\n",
    "print(student.test2)\n",
    "print(student.test3)\n",
    "print(\"Votre score moyenne est \" + str(student.average_score()))\n",
    "student2 = student\n",
    "print(\"Votre score moyenne est \" + str(student2.average_score()))\n",
    "# student = None retiré pour illuster plus loin\n",
    "# student2 = None"
   ]
  },
  {
   "cell_type": "markdown",
   "metadata": {},
   "source": [
    "#### Sur base de ces extraits, donnez des exemples des notions suivantes, en veillant à être précis et rigoureux dans votre formulation:"
   ]
  },
  {
   "cell_type": "markdown",
   "metadata": {},
   "source": [
    "***Classe, objet (ou instance) :***"
   ]
  },
  {
   "cell_type": "markdown",
   "metadata": {},
   "source": [
    "La classe Student sert comme une sorte d'usine pour créer des objets, ou instances, de la classe Student."
   ]
  },
  {
   "cell_type": "markdown",
   "metadata": {},
   "source": [
    "***Constructeur et méthode d'initialisation :***"
   ]
  },
  {
   "cell_type": "markdown",
   "metadata": {},
   "source": [
    "L'expression Student(\"Kim\") est un constructeur qui crée et initialise un nouvel objet qui est une instance de la classe Student. Ce constructeur fait appel automatiquement à la méthode d'initialisation __init__(self, n) qui initialise les attributs de cette instance"
   ]
  },
  {
   "cell_type": "markdown",
   "metadata": {},
   "source": [
    "***Attribut (ou variable d'instance) :***"
   ]
  },
  {
   "cell_type": "markdown",
   "metadata": {},
   "source": [
    "name, test1, test2, test3 sont des attributs, ou variables d'instance, de la classe Student"
   ]
  },
  {
   "cell_type": "markdown",
   "metadata": {},
   "source": [
    "***Méthode d'instance :***"
   ]
  },
  {
   "cell_type": "markdown",
   "metadata": {},
   "source": [
    "average_score(self) est une méthode d'instance de la classe Student.<br>\n",
    "Chaque instance de la classe Student possède ses propres valeurs pour les variables d'instance, qui sont accessibles par ses méthodes d'instance.<br>\n",
    "La variable student contient une référence à une instance de la classe Student, un objet représentant l'étudiant nommé \"Kim\".<br>\n",
    "La variable student2 n'est pas un autre étudiant mais contient une référence au même objet.<br>"
   ]
  },
  {
   "cell_type": "markdown",
   "metadata": {},
   "source": [
    "***Référence à un objet et la valeur None :***"
   ]
  },
  {
   "cell_type": "markdown",
   "metadata": {},
   "source": [
    "A la fin du deuxième extrait, aux deux variables student et student2 on affecte une valeur particulière, dénotée None, qui ne réfère à aucun objet existant. <br>\n",
    "Dans la méthode d'initialisation $__init__$ on utilise aussi cette valeur None pour indiquer que les variables test1, test2 et test3 ne contiennent pas encore de valeur lors de la création d'un objet de type Student. <br>\n",
    "Par conséquence, avant d'appeler la méthode average_score sur un objet de type Student il est important de d'abord assigner une valeur aux attributs test1, test2 et test3 de cet objet, sinon l'exécution de la méthode donnera une erreur."
   ]
  },
  {
   "cell_type": "markdown",
   "metadata": {},
   "source": [
    "***Référence à self :***"
   ]
  },
  {
   "cell_type": "markdown",
   "metadata": {},
   "source": [
    "lorsqu'on définit une méthode, le premier paramètre réfère **toujours** à l'instance à laquelle le message a été envoyé, donc à l'objet lui-même. Pour cette raison la convention est de nommer ce paramètre self.\n",
    "On doit aussi écrire self.test1 pour accéder à la valeur d'un attribut."
   ]
  },
  {
   "cell_type": "markdown",
   "metadata": {},
   "source": [
    "# Question 2(!)"
   ]
  },
  {
   "cell_type": "markdown",
   "metadata": {},
   "source": [
    "#### Dans la question précédente, expliquez les notations student.name, student.average_score() et self.name et leur interprétation par Python."
   ]
  },
  {
   "cell_type": "markdown",
   "metadata": {},
   "source": [
    "- **student.name** permet d'accéder à la valeur de l'attribut name de l'objet contenu dans la variable student. Un autre objet de la même classe aurait vraisemblablement une autre valeur pour cet attribut.\n",
    "- **student.average_score()** appelle la méthode average_score() sur l'objet auquel le variable student réfère.\n",
    "- **self.name** permet d'accéder à la valeur de l'attribut name. Le self est rempli par python lui même lors d'un appel d'une méthode sur un objet de la class Student."
   ]
  },
  {
   "cell_type": "markdown",
   "metadata": {},
   "source": [
    "# Question 3"
   ]
  },
  {
   "cell_type": "markdown",
   "metadata": {},
   "source": [
    "#### Dans la première question, pour imprimer le détail d'un objet student de la classe Student on devait exécuter la série d'instructions suivante:"
   ]
  },
  {
   "cell_type": "code",
   "execution_count": 3,
   "metadata": {},
   "outputs": [
    {
     "name": "stdout",
     "output_type": "stream",
     "text": [
      "Bonjour, Kim. Vos scores sont:\n",
      "14.0\n",
      "10.5\n",
      "12.0\n",
      "Votre score moyenne est 12.166666666666666\n"
     ]
    }
   ],
   "source": [
    "print(\"Bonjour, \" + student.name + \". Vos scores sont:\")\n",
    "print(student.test1)\n",
    "print(student.test2)\n",
    "print(student.test3)\n",
    "print(\"Votre score moyenne est \" + str(student.average_score()))"
   ]
  },
  {
   "cell_type": "markdown",
   "metadata": {},
   "source": [
    "![BobURL](https://media.giphy.com/media/l2JhpjWPccQhsAMfu/giphy.gif \"bob\")"
   ]
  },
  {
   "cell_type": "markdown",
   "metadata": {},
   "source": [
    "**Bon comme c'est super chiant de devoir écrire autant de code pour imprimer des valeurs, let's pimp things up with some magic**<br>**On va implémenter la méthode : $__str__(self)$** "
   ]
  },
  {
   "cell_type": "markdown",
   "metadata": {},
   "source": [
    "![turnURL](https://media.giphy.com/media/27sT7J8QTn4ITbFqmZ/giphy.gif \"turn\")"
   ]
  },
  {
   "cell_type": "markdown",
   "metadata": {},
   "source": [
    "let's code here : **https://www.overleaf.com/4733149517yhzwfrqdncpp**"
   ]
  },
  {
   "cell_type": "code",
   "execution_count": 4,
   "metadata": {},
   "outputs": [],
   "source": [
    "class Student :\n",
    "\n",
    "    def __init__(self,n) :\n",
    "        \"\"\"\n",
    "        Initialise un nouvel objet de type Student avec un nom n donné.\n",
    "        @pre:  -\n",
    "        @post: Un objet de type Student a été créé avec comme 'name' n,\n",
    "               et un score None pour chacun des trois tests 'test1', 'test2' et 'test3'\n",
    "        \"\"\"\n",
    "        # nom de l'étudiant\n",
    "        self.name = n\n",
    "        # score reçu par l'étudiant sur trois tests\n",
    "        # (initialement None car l'étudiant n'a pas encore passé les tests)\n",
    "        self.test1 = None\n",
    "        self.test2 = None\n",
    "        self.test3 = None\n",
    "\n",
    "    def average_score(self) :\n",
    "        \"\"\"\"\n",
    "        Calcul du score moyen que l'étudiant a obtenu sur les 3 tests.\n",
    "        @pre: les variables d'instance test1, test2 et test3\n",
    "              contiennent des valeurs de type int\n",
    "        @post: retourne la valeur moyenne de ces trois valeurs\n",
    "        \"\"\"\n",
    "        return (self.test1 + self.test2 + self.test3) / 3\n",
    "    \n",
    "    def __str__(self) :\n",
    "        s = \"Bonjour, \" + self.name + \". Vos scores sont:\" + \"\\n\" \\\n",
    "            + str(self.test1) + \"\\n\" + str(self.test2) + \"\\n\" + str(self.test3) + \"\\n\" \\\n",
    "            + \"Votre score moyenne est \" + str(self.average_score())\n",
    "        return s"
   ]
  },
  {
   "cell_type": "code",
   "execution_count": 5,
   "metadata": {},
   "outputs": [
    {
     "name": "stdout",
     "output_type": "stream",
     "text": [
      "Bonjour, Kim. Vos scores sont:\n",
      "14.0\n",
      "10.5\n",
      "12.0\n",
      "Votre score moyenne est 12.166666666666666\n"
     ]
    }
   ],
   "source": [
    "student = Student(\"Kim\")\n",
    "student.test1 = 14.0\n",
    "student.test2 = 10.5\n",
    "student.test3 = 12.0\n",
    "print(student)"
   ]
  },
  {
   "cell_type": "markdown",
   "metadata": {},
   "source": [
    "# Question 4"
   ]
  },
  {
   "cell_type": "markdown",
   "metadata": {},
   "source": [
    "#### Dans le cadre d'un cours de programmation, un étudiant a développé une classe Pair permettant de manipuler un objet contenant une paire d'entiers. Le code de cette classe Python est repris ci-dessous :"
   ]
  },
  {
   "cell_type": "code",
   "execution_count": 6,
   "metadata": {},
   "outputs": [],
   "source": [
    "class Pair:\n",
    "    \"\"\"\n",
    "    Une paire d'entiers\n",
    "    \"\"\"\n",
    "\n",
    "    def __init__(self, x=None, y=None):\n",
    "        \"\"\"\n",
    "        @pre -\n",
    "        @post crée une paire (a,b) composée de x et y,\n",
    "              ou une paire non-initialisée si aucune valeur\n",
    "              de x et de y n'est donné lors de l'appel au constructeur\n",
    "        \"\"\"\n",
    "        self.a = x   # le premier élément de la paire\n",
    "        self.b = y   # le second élément de la paire\n",
    "\n",
    "    def __str__(self):\n",
    "        return str(self.a) + \", \" + str(self.b)"
   ]
  },
  {
   "cell_type": "markdown",
   "metadata": {},
   "source": [
    "#### On va utiliser la classe pair de la façon suivante : "
   ]
  },
  {
   "cell_type": "code",
   "execution_count": 7,
   "metadata": {},
   "outputs": [],
   "source": [
    "p0 = Pair()      ##1##\n",
    "p1 = Pair(0,0)   ##2##\n",
    "p2 = Pair(1,1)   ##3##\n",
    "p0.b = 3         ##4##\n",
    "p1.a = 10        ##5##\n",
    "p2.a = p1.a      ##6##\n",
    "p2 = p1          ##7##"
   ]
  },
  {
   "cell_type": "markdown",
   "metadata": {},
   "source": [
    "#### Expliquez les opérations effectuées par chacune de ces lignes. Pensez à utiliser une représentation graphique des différents objets telle que celle utilisée dans le syllabus ou les transparents en indiquant les valeurs des différentes variables d'instance."
   ]
  },
  {
   "cell_type": "markdown",
   "metadata": {},
   "source": [
    "- p0,p1 et p2 sont des références vers des objets de la classe Pair\n",
    "- l'instruction p0.b=3 assigne la valeur 3 à l'attribut b de l'objet auquel p0 fait référence\n",
    "- pareil pour p1.a\n",
    "- p2.a = p1.a assigne à l'attribut a de l'objet auquel la variable p2 fait référence, la valeur de l'attribut a de l'objet auquel la variable p1 fait référence. \n",
    "- Après l'instruction p2 = p1, la variable p2 contient maintenant une référence vers l'objet référencé par p1. Il n'y a aucune référence restant vers l'objet auquel p2 faisait référence auparavant. Cet objet sera ramassé par Python."
   ]
  },
  {
   "cell_type": "markdown",
   "metadata": {},
   "source": [
    "#### Après avoir exécuté les opérations précédentes, qu'impriment les instructions suivantes? "
   ]
  },
  {
   "cell_type": "code",
   "execution_count": 8,
   "metadata": {},
   "outputs": [
    {
     "name": "stdout",
     "output_type": "stream",
     "text": [
      "None, 3\n",
      "10, 0\n",
      "10, 0\n"
     ]
    }
   ],
   "source": [
    "print(p0)        ##7##\n",
    "print(p1)        ##8##\n",
    "print(p2)        ##9##"
   ]
  },
  {
   "cell_type": "markdown",
   "metadata": {},
   "source": [
    "# Question 5"
   ]
  },
  {
   "cell_type": "markdown",
   "metadata": {},
   "source": [
    "Dans cet exercice, il vous est demandé de créer une classe Student. <br>\n",
    "\n",
    "Les étudiants sont supposés avoir les caractéristiques suivantes: <br>\n",
    "\n",
    "- Un prénom (attribut name)\n",
    "- Un nom (attribut surname)\n",
    "- Une date de naissance (attribut birth_date)\n",
    "- Une adresse mail (attribut email)"
   ]
  },
  {
   "cell_type": "markdown",
   "metadata": {},
   "source": [
    "![penguinURL](https://media.giphy.com/media/4Zgy9QqzWU8C3ugvCa/giphy.gif \"penguin\")"
   ]
  },
  {
   "cell_type": "code",
   "execution_count": 9,
   "metadata": {},
   "outputs": [],
   "source": [
    "class Student:\n",
    "    def __init__(self, fname, sname, bday, mail):\n",
    "        self.name = fname\n",
    "        self.surname = sname\n",
    "        self.birth_date = bday\n",
    "        self.email = mail"
   ]
  },
  {
   "cell_type": "markdown",
   "metadata": {},
   "source": [
    "# Question 6"
   ]
  },
  {
   "cell_type": "code",
   "execution_count": 11,
   "metadata": {},
   "outputs": [],
   "source": [
    "class Pair:\n",
    "\n",
    "    def __init__(self, x, y):\n",
    "        self.a = x\n",
    "        self.b = y\n",
    "\n",
    "    def __str__(self):\n",
    "        return str(self.a) + \", \" + str(self.b)\n",
    "\n",
    "    def opposite(self):\n",
    "        \"\"\"\n",
    "        @pre        -\n",
    "        @post   retourne une nouvelle instance de Pair dont les deux\n",
    "                éléments sont les opposés de ceux de cette paire-ci.\n",
    "                L'instance appelante reste inchangée.\n",
    "        \"\"\"\n",
    "        # À implémenter"
   ]
  },
  {
   "cell_type": "code",
   "execution_count": 12,
   "metadata": {},
   "outputs": [],
   "source": [
    "def opposite(self):\n",
    "    return Pair(-self.a, -self.b)"
   ]
  },
  {
   "cell_type": "markdown",
   "metadata": {},
   "source": [
    "#### Considérez les instructions suivantes qui utilisent la classe Pair vue précédemment:"
   ]
  },
  {
   "cell_type": "code",
   "execution_count": 15,
   "metadata": {},
   "outputs": [
    {
     "name": "stdout",
     "output_type": "stream",
     "text": [
      "Egaux en 2\n"
     ]
    }
   ],
   "source": [
    "p1 = Pair(9, 42)\n",
    "p2 = Pair(9, 42);\n",
    "if (p1 == p2) : \n",
    "    print(\"Egaux en 1\")   ##1##\n",
    "p2 = p1\n",
    "if (p1 == p2) : \n",
    "    print(\"Egaux en 2\")   ##2##"
   ]
  },
  {
   "cell_type": "markdown",
   "metadata": {},
   "source": [
    "**Faisons un petit dessin sur paint pour mieux comprendre**"
   ]
  },
  {
   "cell_type": "markdown",
   "metadata": {},
   "source": [
    "# Question 7"
   ]
  },
  {
   "cell_type": "markdown",
   "metadata": {},
   "source": [
    "#### Ajoutez une méthode __eq__(self, p) à la classe Pair qui compare la valeur de deux paires, de manière à ce que p1 == p2 retournera True à la ligne ##1##. Pensez à gérer également le cas où p == None."
   ]
  },
  {
   "cell_type": "code",
   "execution_count": 17,
   "metadata": {},
   "outputs": [],
   "source": [
    "class Pair:\n",
    "\n",
    "    def __init__(self, x, y):\n",
    "        self.a = x\n",
    "        self.b = y\n",
    "\n",
    "    def __eq__ (self, p):\n",
    "        \"\"\"\n",
    "        @pre    -\n",
    "        @post   Retourne true si la paire p est égale à l'objet.\n",
    "                Retourne false sinon\n",
    "        \"\"\"\n",
    "        # À implémenter"
   ]
  },
  {
   "cell_type": "code",
   "execution_count": 18,
   "metadata": {},
   "outputs": [],
   "source": [
    "class Pair:\n",
    "\n",
    "    def __init__(self, x, y):\n",
    "        self.a = x\n",
    "        self.b = y\n",
    "\n",
    "    def __eq__ (self, p):\n",
    "        \"\"\"\n",
    "        @pre    -\n",
    "        @post   Retourne true si la paire p est égale à l'objet.\n",
    "                Retourne false sinon\n",
    "        \"\"\"\n",
    "        if p == None or type(p) != type(self):\n",
    "            return False\n",
    "        else:\n",
    "            return self.a == p.a and self.b == p.b"
   ]
  },
  {
   "cell_type": "code",
   "execution_count": 19,
   "metadata": {},
   "outputs": [
    {
     "name": "stdout",
     "output_type": "stream",
     "text": [
      "Egaux en 1\n",
      "Egaux en 2\n"
     ]
    }
   ],
   "source": [
    "p1 = Pair(9, 42)\n",
    "p2 = Pair(9, 42);\n",
    "if (p1 == p2) : \n",
    "    print(\"Egaux en 1\")   ##1##\n",
    "p2 = p1\n",
    "if (p1 == p2) : \n",
    "    print(\"Egaux en 2\")   ##2##"
   ]
  },
  {
   "cell_type": "markdown",
   "metadata": {},
   "source": [
    "![easyURL](https://media.giphy.com/media/3o7btNa0RUYa5E7iiQ/giphy.gif \"easy\")"
   ]
  },
  {
   "cell_type": "markdown",
   "metadata": {},
   "source": [
    "# Question 8"
   ]
  },
  {
   "cell_type": "markdown",
   "metadata": {},
   "source": [
    "#### Considérez la classe OrderedPair, qui prend comme variable d'instance un objet de type Pair dont la classe se trouve dans la question précédente. Voici la classe OrderedPair :"
   ]
  },
  {
   "cell_type": "code",
   "execution_count": 20,
   "metadata": {},
   "outputs": [],
   "source": [
    "class OrderedPair:\n",
    "    '''\n",
    "    Représente une paire de deux entiers (représenté en interne par une instance p de la classe Pair).\n",
    "    Cette paire est considérée comme ordonnée si l'attribut a de p est plus petit ou égal à son attribut b\n",
    "    '''\n",
    "\n",
    "    def __init__(self):\n",
    "        self.p = Pair(0, 0)\n",
    "        self.ordered = True\n",
    "\n",
    "    def set_a(self, n_a):\n",
    "        \"\"\"\n",
    "        @pre -\n",
    "        @post donne au premier élément de la paire la nouvelle valeur n_a\n",
    "        \"\"\"\n",
    "        # À implémenter\n",
    "\n",
    "    def set_b(self, n_b):\n",
    "        \"\"\"\n",
    "        @pre -\n",
    "        @post donne au second élément de la paire la nouvelle valeur n_b\n",
    "        \"\"\"\n",
    "        # À implémenter"
   ]
  },
  {
   "cell_type": "markdown",
   "metadata": {},
   "source": [
    "#### Implémentez les méthodes set_a() et set_b() avec leur signatures. N'oubliez pas de mettre à jour l'attribut ordered."
   ]
  },
  {
   "cell_type": "markdown",
   "metadata": {},
   "source": [
    "![starURL](https://media.giphy.com/media/xT9IgEYXCNqPZnqMuY/giphy.gif \"star\")"
   ]
  },
  {
   "cell_type": "markdown",
   "metadata": {},
   "source": [
    "**Si vous ne les avez pas fait, essayer de les faire pour la prochaine séance, pour celle-ci, your on your own kiddo !**"
   ]
  },
  {
   "cell_type": "markdown",
   "metadata": {},
   "source": [
    "![questionURL](https://media.giphy.com/media/l0HlT86IOp6nE9he0/giphy.gif \"question\")"
   ]
  },
  {
   "cell_type": "markdown",
   "metadata": {},
   "source": [
    "## <center> Merci pour votre écoute fidèle à RADIO LINFO1101<br>on se retrouve jeudi pour la correction !"
   ]
  }
 ],
 "metadata": {
  "kernelspec": {
   "display_name": "Python 3",
   "language": "python",
   "name": "python3"
  },
  "language_info": {
   "codemirror_mode": {
    "name": "ipython",
    "version": 3
   },
   "file_extension": ".py",
   "mimetype": "text/x-python",
   "name": "python",
   "nbconvert_exporter": "python",
   "pygments_lexer": "ipython3",
   "version": "3.8.6"
  }
 },
 "nbformat": 4,
 "nbformat_minor": 4
}
