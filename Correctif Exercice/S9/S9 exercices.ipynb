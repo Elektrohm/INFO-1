{
 "cells": [
  {
   "cell_type": "markdown",
   "metadata": {},
   "source": [
    "# <center> S9 : Exercices corrigés"
   ]
  },
  {
   "cell_type": "markdown",
   "metadata": {},
   "source": [
    "# QCM "
   ]
  },
  {
   "cell_type": "markdown",
   "metadata": {},
   "source": [
    "Le QCM n'a rien de très particulier si ce n'est l'héritage des méthodes qui peut être particulier. Mais il suffit de pratiquer et bien lire le syllabus. "
   ]
  },
  {
   "cell_type": "markdown",
   "metadata": {},
   "source": [
    "# Question 1 "
   ]
  },
  {
   "cell_type": "markdown",
   "metadata": {},
   "source": [
    "#### L'héritage est un principe de base de la programmation orientée objet. Considérons les classes A, B, C et D ci-dessous :"
   ]
  },
  {
   "cell_type": "code",
   "execution_count": 1,
   "metadata": {},
   "outputs": [],
   "source": [
    "class A :\n",
    "\n",
    "    def m1(self) :\n",
    "        print(\"A 1\")\n",
    "\n",
    "    def m2(self) :\n",
    "        print(\"A 2\")\n",
    "\n",
    "    def m3(self) :\n",
    "        self.m1()   # appel à la méthode m1 sur la même instance\n",
    "\n",
    "    def nom(self) :\n",
    "        return \"A\"\n",
    "\n",
    "class B(A) :\n",
    "\n",
    "    def m2(self):\n",
    "        print(\"B 2\")\n",
    "\n",
    "class C(A):\n",
    "\n",
    "    def m1(self) :\n",
    "        print(\"C 1\")\n",
    "\n",
    "    def nom(self):\n",
    "        return \"C\"\n",
    "\n",
    "class D(C) :\n",
    "\n",
    "    def m2(self) :\n",
    "        print(\"D 2\")"
   ]
  },
  {
   "cell_type": "markdown",
   "metadata": {},
   "source": [
    "#### Expliquez ce que représente le mot self dans la définition de ces différentes méthodes. "
   ]
  },
  {
   "cell_type": "markdown",
   "metadata": {},
   "source": [
    "Le premier argument de chaque méthode d'instance est toujours une référence à l'instance actuelle de la classe, c'est-à-dire à l'objet qui a reçu la requête d'exécuter la méthode. <br>\n",
    "<br>\n",
    "Vous avez vu qu'on peut l'utiliser pour accéder à l'attribut d'un objet, self.salaire dans la QBF par exemple  ou quand on veut appeler une autre méthode de la même instance, comme avec la méthode m3 au-dessus, qui appelle m1 via l'instruction self.m1()."
   ]
  },
  {
   "cell_type": "markdown",
   "metadata": {},
   "source": [
    "**Que se passe-t-il lors d'un appel de l'appel suivant ?**"
   ]
  },
  {
   "cell_type": "code",
   "execution_count": 2,
   "metadata": {},
   "outputs": [
    {
     "name": "stdout",
     "output_type": "stream",
     "text": [
      "juste pour cacher la réponse eh eh :) \n",
      "\n",
      "\n",
      "\n",
      "\n",
      "\n",
      "\n",
      "\n",
      "\n",
      "\n",
      "\n",
      "C 1\n"
     ]
    }
   ],
   "source": [
    "c = C()\n",
    "print(\"juste pour cacher la réponse eh eh :) \\n\\n\\n\\n\\n\\n\\n\\n\\n\\n\")\n",
    "c.m3()\n"
   ]
  },
  {
   "cell_type": "markdown",
   "metadata": {},
   "source": [
    "Bien que C appelle la méthode m3 de la classe A, le self est une référence pour un objet de la classe C donc quand m3 exécute self.m1(), c'est la méthode m1 définie dans C qui sera appelée et non la méthode m1 définie dans A (même si A est le seul à définir m3)."
   ]
  },
  {
   "cell_type": "markdown",
   "metadata": {},
   "source": [
    "#### Dessiner un diagramme reprenant ces quatre classes."
   ]
  },
  {
   "cell_type": "markdown",
   "metadata": {},
   "source": [
    "http://pythontutor.com/visualize.html#code=class%20A%20%3A%0A%0A%20%20%20%20def%20m1%28self%29%20%3A%0A%20%20%20%20%20%20%20%20print%28%22A%201%22%29%0A%0A%20%20%20%20def%20m2%28self%29%20%3A%0A%20%20%20%20%20%20%20%20print%28%22A%202%22%29%0A%0A%20%20%20%20def%20m3%28self%29%20%3A%0A%20%20%20%20%20%20%20%20self.m1%28%29%20%20%20%23%20appel%20%C3%A0%20la%20m%C3%A9thode%20m1%20sur%20la%20m%C3%AAme%20instance%0A%0A%20%20%20%20def%20nom%28self%29%20%3A%0A%20%20%20%20%20%20%20%20return%20%22A%22%0A%0Aclass%20B%28A%29%20%3A%0A%0A%20%20%20%20def%20m2%28self%29%3A%0A%20%20%20%20%20%20%20%20print%28%22B%202%22%29%0A%0Aclass%20C%28A%29%3A%0A%0A%20%20%20%20def%20m1%28self%29%20%3A%0A%20%20%20%20%20%20%20%20print%28%22C%201%22%29%0A%0A%20%20%20%20def%20nom%28self%29%3A%0A%20%20%20%20%20%20%20%20return%20%22C%22%0A%0Aclass%20D%28C%29%20%3A%0A%0A%20%20%20%20def%20m2%28self%29%20%3A%0A%20%20%20%20%20%20%20%20print%28%22D%202%22%29%0A%20%20%20%20%20%20%20%20%0Aa%20%3D%20A%28%29%0Aprint%28a.nom%28%29%29%0Aa.m1%28%29%0Aa.m2%28%29%0Aa.m3%28%29%0Ab%20%3D%20B%28%29%0Aprint%28b.nom%28%29%29%0Ab.m1%28%29%0Ab.m2%28%29%0Ab.m3%28%29%0Ac%20%3D%20C%28%29%0Aprint%28c.nom%28%29%29%0Ac.m1%28%29%0Ac.m2%28%29%0Ac.m3%28%29%0Ad%20%3D%20D%28%29%0Aprint%28d.nom%28%29%29%0Ad.m1%28%29%0Ad.m2%28%29%0Ad.m3%28%29&cumulative=false&curInstr=0&heapPrimitives=nevernest&mode=display&origin=opt-frontend.js&py=3&rawInputLstJSON=%5B%5D&textReferences=false"
   ]
  },
  {
   "cell_type": "markdown",
   "metadata": {},
   "source": [
    "#### Expliquer ce qui sera affiché lors de l'exécution des instructions Python ci-dessous :"
   ]
  },
  {
   "cell_type": "code",
   "execution_count": 3,
   "metadata": {},
   "outputs": [
    {
     "name": "stdout",
     "output_type": "stream",
     "text": [
      "A\n",
      "A 1\n",
      "A 2\n",
      "A 1\n",
      "A\n",
      "A 1\n",
      "B 2\n",
      "A 1\n",
      "C\n",
      "C 1\n",
      "A 2\n",
      "C 1\n",
      "C\n",
      "C 1\n",
      "D 2\n",
      "C 1\n"
     ]
    }
   ],
   "source": [
    "a = A()\n",
    "print(a.nom())\n",
    "a.m1()\n",
    "a.m2()\n",
    "a.m3()\n",
    "b = B()\n",
    "print(b.nom())\n",
    "b.m1()\n",
    "b.m2()\n",
    "b.m3()\n",
    "c = C()\n",
    "print(c.nom())\n",
    "c.m1()\n",
    "c.m2()\n",
    "c.m3()\n",
    "d = D()\n",
    "print(d.nom())\n",
    "d.m1()\n",
    "d.m2()\n",
    "d.m3()"
   ]
  },
  {
   "cell_type": "markdown",
   "metadata": {},
   "source": [
    "# Question 2 "
   ]
  },
  {
   "cell_type": "markdown",
   "metadata": {},
   "source": [
    "#### Expliquez le rôle de la fonction spécial super() dans le langage Python. Donnez un exemple."
   ]
  },
  {
   "cell_type": "markdown",
   "metadata": {},
   "source": [
    "super() est utilisé pour référencer la classe mère. super() est surtout utile pour faire appel à une méthode de la classe mère si la classe fille redéfinie cette méthode."
   ]
  },
  {
   "cell_type": "markdown",
   "metadata": {},
   "source": [
    "#### Considérez les classes E et F ci-dessous :"
   ]
  },
  {
   "cell_type": "code",
   "execution_count": 4,
   "metadata": {},
   "outputs": [],
   "source": [
    "class E :\n",
    "\n",
    "    def m(self) :\n",
    "        print(\"E 1\")\n",
    "\n",
    "    def n(self) :\n",
    "        print(\"E 2\")\n",
    "\n",
    "    def p(self) :\n",
    "        self.n()   # appel à la méthode n sur la même instance\n",
    "\n",
    "class F(E) :\n",
    "\n",
    "    def q(self) :\n",
    "         print(\"F 1\")\n",
    "\n",
    "    def n(self) :\n",
    "        super().n() # appeler la méthode définie sur la classe mère\n",
    "        print(\"F 2\")\n",
    "\n",
    "    def r(self) :\n",
    "        self.m() # appel à la méthode m sur la même instance"
   ]
  },
  {
   "cell_type": "markdown",
   "metadata": {},
   "source": [
    "#### Expliquer ce qui sera affiché lors de l'exécution des instructions Python suivantes : "
   ]
  },
  {
   "cell_type": "code",
   "execution_count": 5,
   "metadata": {},
   "outputs": [
    {
     "name": "stdout",
     "output_type": "stream",
     "text": [
      "F 1\n",
      "E 1\n",
      "E 1\n",
      "E 2\n",
      "F 2\n",
      "E 2\n",
      "F 2\n"
     ]
    }
   ],
   "source": [
    "f = F()\n",
    "f.q()\n",
    "f.m()\n",
    "f.r()\n",
    "f.n()\n",
    "f.p()"
   ]
  },
  {
   "cell_type": "markdown",
   "metadata": {},
   "source": [
    "- f.q() est un appel normal\n",
    "- f.m() aussi, mais la méthode est trouvé dans la super-classe\n",
    "- f.r() est un exemple d'un appel à self, où la méthode appelé sur self sera trouvé dans la super-classe\n",
    "- f.n() est un exemple d'un appel à super, pour redéfinir/étendre une méthode\n",
    "- f.p() est un exemple complexe: la méthode est trouvé dans la classe E, mais self pointe vers une instance de la classe F, donc l'appel self.n() prendra la méthode n de F, qui fera après un super call vers la méthode n de E, suivi par une autre instruction."
   ]
  },
  {
   "cell_type": "code",
   "execution_count": 6,
   "metadata": {},
   "outputs": [
    {
     "name": "stdout",
     "output_type": "stream",
     "text": [
      "F 1\n"
     ]
    }
   ],
   "source": [
    "f.q()"
   ]
  },
  {
   "cell_type": "code",
   "execution_count": 7,
   "metadata": {},
   "outputs": [
    {
     "name": "stdout",
     "output_type": "stream",
     "text": [
      "E 1\n"
     ]
    }
   ],
   "source": [
    "f.m()"
   ]
  },
  {
   "cell_type": "code",
   "execution_count": 8,
   "metadata": {},
   "outputs": [
    {
     "name": "stdout",
     "output_type": "stream",
     "text": [
      "E 1\n"
     ]
    }
   ],
   "source": [
    "f.r()"
   ]
  },
  {
   "cell_type": "code",
   "execution_count": 9,
   "metadata": {},
   "outputs": [
    {
     "name": "stdout",
     "output_type": "stream",
     "text": [
      "E 2\n",
      "F 2\n"
     ]
    }
   ],
   "source": [
    "f.n()"
   ]
  },
  {
   "cell_type": "code",
   "execution_count": 10,
   "metadata": {},
   "outputs": [
    {
     "name": "stdout",
     "output_type": "stream",
     "text": [
      "E 2\n",
      "F 2\n"
     ]
    }
   ],
   "source": [
    "f.p()"
   ]
  },
  {
   "cell_type": "markdown",
   "metadata": {},
   "source": [
    "# Question 3 "
   ]
  },
  {
   "cell_type": "code",
   "execution_count": 11,
   "metadata": {},
   "outputs": [],
   "source": [
    "class Figure:\n",
    "\n",
    "    def __init__(self,x,y,visible=False) :\n",
    "        \"\"\"\n",
    "        @pre x, y sont des entiers représentant des positions sur l'écran\n",
    "        @post Une figure a été créée avec centre de gravité aux coordonnées x,y.\n",
    "              Cette figure n'est initialement pas visible.\n",
    "        \"\"\"\n",
    "        self.x = x\n",
    "        self.y = y\n",
    "        self.__visible = visible\n",
    "\n",
    "    def estVisible(self) :\n",
    "        \"\"\"\n",
    "        @pre -\n",
    "        @post a retourné la visibilité de cette figure\n",
    "        \"\"\"\n",
    "        return self.__visible\n",
    "\n",
    "    def surface(self) :\n",
    "        \"\"\"\n",
    "        @pre -\n",
    "        @post la surface (un float) de la figure a été calculé et retournée\n",
    "        \"\"\"\n",
    "        pass            # code non fourni"
   ]
  },
  {
   "cell_type": "markdown",
   "metadata": {},
   "source": [
    "Cette classe Figure est la classe mère d'un ensemble de classes permettant de représenter des figures géométriques. Chaque figure géométrique est placée à une position (x,y) (centre de gravité) sur l'écran et la classe contient des variables d'instance et des méthodes permettant de manipuler cette figure géométrique (notamment des méthodes permettant d'afficher la figure à l'écran, mais ces méthodes ne sont pas reprises dans les extraits présentés dans cet exercice). Parmi ces figures géométriques, on trouve notamment la classe Rectangle qui hérite de la classe Figure et dont un fragment est repris ci-dessous :"
   ]
  },
  {
   "cell_type": "code",
   "execution_count": 12,
   "metadata": {},
   "outputs": [
    {
     "name": "stdout",
     "output_type": "stream",
     "text": [
      "(10, 20, 0, 0, False)\n"
     ]
    }
   ],
   "source": [
    "class Rectangle(Figure):\n",
    "\n",
    "    def __init__(self,lo,la,x,y) :\n",
    "        \"\"\"\n",
    "        @pre lo (longeur) et la (largeur) sont des entiers positifs\n",
    "             x, y sont des entiers représentant des positions sur l'écran\n",
    "        @post un rectangle dont le centre de gravite est en x,y\n",
    "              et ayant comme longueur lo et comme largeur la a été créé\n",
    "        \"\"\"\n",
    "        super().__init__(x,y)\n",
    "        self.longeur = lo\n",
    "        self.largeur = la\n",
    "\n",
    "    def __str__(self) :\n",
    "        return str((self.longeur,self.largeur,self.x,self.y,self.estVisible()))\n",
    "\n",
    "r = Rectangle(10,20,0,0)\n",
    "print(r)"
   ]
  },
  {
   "cell_type": "markdown",
   "metadata": {},
   "source": [
    "### Quelles sont les variables d'instance qu'une instance de la classe Rectangle peut utiliser ?"
   ]
  },
  {
   "cell_type": "markdown",
   "metadata": {},
   "source": [
    "- longeur\n",
    "- largeur\n",
    "- x\n",
    "- y\n",
    "- __visible"
   ]
  },
  {
   "cell_type": "markdown",
   "metadata": {},
   "source": [
    "Rectangle possède ses variables d'instances longeur et largeur **MAIS** il **hérite** aussi des variables d'instance de la **super classe**. <br>\n",
    "**Est-ce que vous pouvez accéder à la variable __visible à l'aide d'un self.__variable dans la classe rectangle ?**"
   ]
  },
  {
   "cell_type": "markdown",
   "metadata": {},
   "source": [
    "Non ! la variable est privée, on le voit à l'aide de __"
   ]
  },
  {
   "cell_type": "markdown",
   "metadata": {},
   "source": [
    "![mmURL](https://media.giphy.com/media/14mgxYFJHXGmoo/giphy.gif \"mm\")"
   ]
  },
  {
   "cell_type": "code",
   "execution_count": 13,
   "metadata": {},
   "outputs": [
    {
     "name": "stdout",
     "output_type": "stream",
     "text": [
      "40\n"
     ]
    },
    {
     "ename": "AttributeError",
     "evalue": "'Rectangle' object has no attribute '__visible'",
     "output_type": "error",
     "traceback": [
      "\u001b[1;31m---------------------------------------------------------------------------\u001b[0m",
      "\u001b[1;31mAttributeError\u001b[0m                            Traceback (most recent call last)",
      "\u001b[1;32m<ipython-input-13-11beef00f945>\u001b[0m in \u001b[0;36m<module>\u001b[1;34m\u001b[0m\n\u001b[0;32m      1\u001b[0m \u001b[0mr\u001b[0m \u001b[1;33m=\u001b[0m \u001b[0mRectangle\u001b[0m\u001b[1;33m(\u001b[0m\u001b[1;36m1\u001b[0m\u001b[1;33m,\u001b[0m\u001b[1;36m2\u001b[0m\u001b[1;33m,\u001b[0m\u001b[1;36m40\u001b[0m\u001b[1;33m,\u001b[0m\u001b[1;36m40\u001b[0m\u001b[1;33m)\u001b[0m\u001b[1;33m\u001b[0m\u001b[1;33m\u001b[0m\u001b[0m\n\u001b[0;32m      2\u001b[0m \u001b[0mprint\u001b[0m\u001b[1;33m(\u001b[0m\u001b[0mr\u001b[0m\u001b[1;33m.\u001b[0m\u001b[0mx\u001b[0m\u001b[1;33m)\u001b[0m\u001b[1;33m\u001b[0m\u001b[1;33m\u001b[0m\u001b[0m\n\u001b[1;32m----> 3\u001b[1;33m \u001b[0mprint\u001b[0m\u001b[1;33m(\u001b[0m\u001b[0mr\u001b[0m\u001b[1;33m.\u001b[0m\u001b[0m__visible\u001b[0m\u001b[1;33m)\u001b[0m\u001b[1;33m\u001b[0m\u001b[1;33m\u001b[0m\u001b[0m\n\u001b[0m",
      "\u001b[1;31mAttributeError\u001b[0m: 'Rectangle' object has no attribute '__visible'"
     ]
    }
   ],
   "source": [
    "r = Rectangle(1,2,40,40)\n",
    "print(r.x)\n",
    "print(r.__visible)"
   ]
  },
  {
   "cell_type": "markdown",
   "metadata": {},
   "source": [
    "**Comment y accéder du coup ?**"
   ]
  },
  {
   "cell_type": "code",
   "execution_count": 14,
   "metadata": {},
   "outputs": [
    {
     "name": "stdout",
     "output_type": "stream",
     "text": [
      "False\n"
     ]
    }
   ],
   "source": [
    "print(r.estVisible())"
   ]
  },
  {
   "cell_type": "markdown",
   "metadata": {},
   "source": [
    "### Que se passe-t il lorsqu'une instance r de la classe Rectangle est créé?"
   ]
  },
  {
   "cell_type": "markdown",
   "metadata": {},
   "source": [
    "Appeler le constructeur Rectangle(10,20,0,0) va créer un nouvel objet de la classe Rectangle et ensuite la méthode magique $__init__$ de la classe Rectangle sera appelée pour initialiser les valeurs des variables d'instance longeur et largeur."
   ]
  },
  {
   "cell_type": "markdown",
   "metadata": {},
   "source": [
    "### Que fait l'appel à super() dans la méthode __init__ de la classe Rectangle ?"
   ]
  },
  {
   "cell_type": "markdown",
   "metadata": {},
   "source": [
    "L'appel $super().__init__$ initialisera les variables x, y et visible."
   ]
  },
  {
   "cell_type": "markdown",
   "metadata": {},
   "source": [
    "### Que se passe-t il si on met cet appel à super() comme dernière instruction dans la méthode __init__ de la classe Rectangle ?"
   ]
  },
  {
   "cell_type": "markdown",
   "metadata": {},
   "source": [
    "La méthode aura le même effet. On initialisera d'abord les variables de la super-classe avant d'initialiser celle de la sous-classe mais ça ne change pas vraiment le comportement (dans ce cas-ci). Néanmoins, il est préférable de mettre l'appel à super() comme première instruction."
   ]
  },
  {
   "cell_type": "markdown",
   "metadata": {},
   "source": [
    "### Dans la classe Rectangle, faut-il redéfinir les méthodes suivantes (si oui, écrivez le code de la nouvelle méthode - si non, expliquez pourquoi )"
   ]
  },
  {
   "cell_type": "markdown",
   "metadata": {},
   "source": [
    "- surface()"
   ]
  },
  {
   "cell_type": "code",
   "execution_count": 15,
   "metadata": {},
   "outputs": [],
   "source": [
    "def surface(self) :\n",
    "    \"\"\"\n",
    "    @pre -\n",
    "    @post la surface (un float) du rectangle a été calculé et retournée\n",
    "    \"\"\"\n",
    "    return self.longeur * self.largeur"
   ]
  },
  {
   "cell_type": "markdown",
   "metadata": {},
   "source": [
    "- estvisible()"
   ]
  },
  {
   "cell_type": "markdown",
   "metadata": {},
   "source": [
    "Non ! Cette méthode est justement utile pour pouvoir accéder à la variable visible."
   ]
  },
  {
   "cell_type": "markdown",
   "metadata": {},
   "source": [
    "# Question 4 "
   ]
  },
  {
   "cell_type": "markdown",
   "metadata": {},
   "source": [
    "Pour éviter de rendre accessible les variables x, y et visible à l'extérieur d'une Figure, quelqu'un modifie le code de la classe Figure. Concrètement, pour rendre ces variables privés, on ajoute un __ à leur nom, comme suit :"
   ]
  },
  {
   "cell_type": "code",
   "execution_count": 16,
   "metadata": {},
   "outputs": [],
   "source": [
    "class Figure:\n",
    "    def __init__(self,x,y,visible=False) :\n",
    "        \"\"\"\n",
    "        @pre x, y sont des entiers représentant des positions sur l'écran\n",
    "        @post Une figure a été créée avec centre de gravité aux coordonnées x,y.\n",
    "              Cette figure n'est initialement pas visible\n",
    "        \"\"\"\n",
    "        self.__x = x\n",
    "        self.__y = y\n",
    "        self.__visible = visible\n",
    "\n",
    "    def estVisible(self) :\n",
    "        \"\"\"\n",
    "        @pre -\n",
    "        @post a retourné la visibilité de cette figure\n",
    "        \"\"\"\n",
    "        return self.__visible\n",
    "\n",
    "    def surface(self):\n",
    "        \"\"\"\n",
    "        @pre -\n",
    "        @post la surface (un float) de la figure a été calculé et retournée\n",
    "        \"\"\"\n",
    "        pass            # code non fourni"
   ]
  },
  {
   "cell_type": "markdown",
   "metadata": {},
   "source": [
    "Malheureusement, le code de la classe Rectangle, qui hérite de la classe Figure ne marche plus maintenant. (Quel est le problème?)"
   ]
  },
  {
   "cell_type": "markdown",
   "metadata": {},
   "source": [
    "![omerURL](https://media.giphy.com/media/xT5LMESsx1kUe8Hiyk/giphy.gif \"omer\")"
   ]
  },
  {
   "cell_type": "code",
   "execution_count": 17,
   "metadata": {},
   "outputs": [],
   "source": [
    "class Figure:\n",
    "\n",
    "    def __init__(self,x,y,visible=False) :\n",
    "        \"\"\"\n",
    "        @pre x, y sont des entiers représentant des positions sur l'écran\n",
    "        @post Une figure a été créée avec centre de gravité aux coordonnées x,y.\n",
    "              Cette figure n'est initialement pas visible\n",
    "        \"\"\"\n",
    "        self.__x = x\n",
    "        self.__y = y\n",
    "        self.__visible = visible\n",
    "\n",
    "\n",
    "    def estVisible(self) :\n",
    "        \"\"\"\n",
    "        @pre -\n",
    "        @post a retourné la visibilité de cette figure\n",
    "        \"\"\"\n",
    "        return self.__visible\n",
    "\n",
    "    def surface(self):\n",
    "        \"\"\"\n",
    "        @pre -\n",
    "        @post la surface (un float) de la figure a été calculé et retournée\n",
    "        \"\"\"\n",
    "        pass            # code non fourni\n",
    "    \n",
    "    def get_x(self):         # ajouté\n",
    "        return self.__x\n",
    "    \n",
    "    def get_y(self):         # ajouté\n",
    "        return self.__y\n",
    "\n",
    "class Rectangle(Figure):\n",
    "\n",
    "    def __init__(self,lo,la,x,y) :\n",
    "        \"\"\"\n",
    "        @pre lo (longeur) et la (largeur) sont des entiers positifs\n",
    "             x, y sont des entiers représentant des positions sur l'écran\n",
    "        @post un rectangle dont le centre de gravite est en x,y\n",
    "              et ayant comme longueur lo et comme largeur la a été créé\n",
    "        \"\"\"\n",
    "        super().__init__(x,y)\n",
    "        self.longeur = lo\n",
    "        self.largeur = la\n",
    "\n",
    "    def __str__(self) :\n",
    "        return str((self.longeur,self.largeur,super().get_x(), super().get_y(),self.estVisible()))  # ajout de super()\n",
    "    \n",
    "    def surface(self):                   # méthode ajouté\n",
    "        return self.longeur * self.largeur"
   ]
  },
  {
   "cell_type": "markdown",
   "metadata": {},
   "source": [
    "# Question 5 "
   ]
  },
  {
   "cell_type": "markdown",
   "metadata": {},
   "source": [
    "#### Comment feriez-vous maintenant pour définir une classe Carre qui étend la classe Rectangle et permet de représenter un carré ?"
   ]
  },
  {
   "cell_type": "markdown",
   "metadata": {},
   "source": [
    "- **Ecrivez la méthode d'initialisation de la classe Carre (un carré se construit en indiquant les coordonnées de son centre de gravité et la longueur de son côté)**"
   ]
  },
  {
   "cell_type": "code",
   "execution_count": 18,
   "metadata": {},
   "outputs": [
    {
     "name": "stdout",
     "output_type": "stream",
     "text": [
      "(40, 40, 0, 0, False)\n",
      "1600\n"
     ]
    }
   ],
   "source": [
    "class Carre(Rectangle) :\n",
    "\n",
    "    def __init__(self,cote,x,y):\n",
    "        \"\"\"\n",
    "        @pre cote est un entier positif\n",
    "             x, y sont des entiers représentant des positions sur l'écran\n",
    "        @post un carré dont le centre de gravite est en x,y\n",
    "              et ayant cote comme longueur et largeur de ses côtés\n",
    "        \"\"\"\n",
    "        super().__init__(cote,cote,x,y)\n",
    "\n",
    "c = Carre(40,0,0)\n",
    "print(c)\n",
    "print(c.surface())"
   ]
  },
  {
   "cell_type": "markdown",
   "metadata": {},
   "source": [
    "- **Quelles sont les méthodes que vous devez redéfinir dans la classe \"Carre\" ?**"
   ]
  },
  {
   "cell_type": "markdown",
   "metadata": {},
   "source": [
    "![NoURL](https://media.giphy.com/media/d1E1msx7Yw5Ne1Fe/giphy.gif \"no\")"
   ]
  },
  {
   "cell_type": "markdown",
   "metadata": {},
   "source": [
    "Il n'y a rien à redéfinir !"
   ]
  },
  {
   "cell_type": "markdown",
   "metadata": {},
   "source": [
    "- **Soient deux classes Circle et Ellipse. Quelles relations peut-on envisager entre ces deux classes ?**"
   ]
  },
  {
   "cell_type": "markdown",
   "metadata": {},
   "source": [
    "Circle hérite de Ellipse (similaire à Carre et Rectangle)"
   ]
  },
  {
   "cell_type": "markdown",
   "metadata": {},
   "source": [
    "- **Ecrivez une méthode perimetre() de la classe Rectangle qui retourne le périmètre du rectangle.**"
   ]
  },
  {
   "cell_type": "code",
   "execution_count": 21,
   "metadata": {},
   "outputs": [],
   "source": [
    "def perimetre(self):\n",
    "    return 2 * (self.largeur() + self.longeur())"
   ]
  },
  {
   "cell_type": "markdown",
   "metadata": {},
   "source": [
    "- **Que faudrait-il faire pour avoir une méthode perimetre de la classe Carre?**"
   ]
  },
  {
   "cell_type": "markdown",
   "metadata": {},
   "source": [
    "Rien, Carre héritera la méthode perimetre de la classe Rectangle. Cette méthode aura déjà le bon comportement."
   ]
  },
  {
   "cell_type": "markdown",
   "metadata": {},
   "source": [
    "# Question 6 "
   ]
  },
  {
   "cell_type": "markdown",
   "metadata": {},
   "source": [
    "### Définissez une méthode __eq__ pour la classe Figure, telle que deux figures sont égales si leur surface est égale."
   ]
  },
  {
   "cell_type": "code",
   "execution_count": 24,
   "metadata": {},
   "outputs": [],
   "source": [
    "def __eq__(self,other):\n",
    "    return self.surface() == other.surface()"
   ]
  },
  {
   "cell_type": "markdown",
   "metadata": {},
   "source": [
    "### Que se passe-t il si on veut comparer deux rectangles ayant la même surface? Par exemple:"
   ]
  },
  {
   "cell_type": "markdown",
   "metadata": {},
   "source": [
    "r1 = Rectangle(10,40,0,0) <br>\n",
    "r2 = Rectangle(2,200,0,0) <br>\n",
    "r1 == r2 <br>"
   ]
  },
  {
   "cell_type": "markdown",
   "metadata": {},
   "source": [
    "![trueURL](https://media.giphy.com/media/XGhDW5hFOsPsIj4fLC/giphy.gif \"true\")"
   ]
  },
  {
   "cell_type": "markdown",
   "metadata": {},
   "source": [
    "**Renvoit True car la méthode __eq__ sera hérité par Rectangle.**"
   ]
  },
  {
   "cell_type": "markdown",
   "metadata": {},
   "source": [
    "### Que se passe-t il si on veut comparer un rectangle avec un carré ayant la même surface? Par exemple:"
   ]
  },
  {
   "cell_type": "markdown",
   "metadata": {},
   "source": [
    "r = Rectangle(10,40,0,0) <br>\n",
    "c = Carre(20,0,0) <br>\n",
    "print(r == c) <br>"
   ]
  },
  {
   "cell_type": "markdown",
   "metadata": {},
   "source": [
    "**Renvoit True car la méthode __eq__ sera hérité par Rectangle et Carre.**"
   ]
  },
  {
   "cell_type": "markdown",
   "metadata": {},
   "source": [
    "# Question 7  "
   ]
  },
  {
   "cell_type": "code",
   "execution_count": 27,
   "metadata": {},
   "outputs": [],
   "source": [
    "\"\"\"\n",
    "Un ticket de parking\n",
    "\"\"\"\n",
    "class Ticket :\n",
    "\n",
    "    __prochain_numero = 1  # variable de classe pour générer le numéro du ticket\n",
    "\n",
    "    def __init__(self) :\n",
    "        \"\"\"\n",
    "        @pre  -\n",
    "        @post Crée un ticket avec un nouveau numéro.\n",
    "              Les numéros sont attribués séquentiellement à partir de 1.\n",
    "        \"\"\"\n",
    "            # A COMPLETER\n",
    "\n",
    "    def numero(self):\n",
    "        \"\"\"\n",
    "        @pre  -\n",
    "        @post retourne le numero de billet\n",
    "        \"\"\"\n",
    "        return self.__numero"
   ]
  },
  {
   "cell_type": "markdown",
   "metadata": {},
   "source": [
    "### Ajoutez ici les définitions des méthodes de la classe Ticket que vous considérez nécessaire et implémentez la fonction __init__ de la clase Ticket en Python."
   ]
  },
  {
   "cell_type": "code",
   "execution_count": 28,
   "metadata": {},
   "outputs": [],
   "source": [
    "def __init__(self) :\n",
    "    self.__numero = Ticket.__prochain_numero\n",
    "    Ticket.__prochain_numero += 1"
   ]
  },
  {
   "cell_type": "markdown",
   "metadata": {},
   "source": [
    "![finallyURL](https://media.giphy.com/media/AsGnrla1K6FN7ajonc/giphy.gif \"finally\")"
   ]
  },
  {
   "cell_type": "markdown",
   "metadata": {},
   "source": [
    "# <center> Merci pour votre écoute fidèle, on se revoit jeudi <br>"
   ]
  }
 ],
 "metadata": {
  "kernelspec": {
   "display_name": "Python 3",
   "language": "python",
   "name": "python3"
  },
  "language_info": {
   "codemirror_mode": {
    "name": "ipython",
    "version": 3
   },
   "file_extension": ".py",
   "mimetype": "text/x-python",
   "name": "python",
   "nbconvert_exporter": "python",
   "pygments_lexer": "ipython3",
   "version": "3.8.6"
  }
 },
 "nbformat": 4,
 "nbformat_minor": 4
}
