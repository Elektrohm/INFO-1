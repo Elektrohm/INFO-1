{
 "cells": [
  {
   "cell_type": "markdown",
   "metadata": {},
   "source": [
    "# <center> QBF 8 : "
   ]
  },
  {
   "cell_type": "markdown",
   "metadata": {},
   "source": [
    "# Question 1 :"
   ]
  },
  {
   "cell_type": "markdown",
   "metadata": {},
   "source": [
    "Écrivez une classe **complète** ***Employe*** dont les instances représentent un employé d'entreprise. Un employé est caractérisé par son ***nom*** (un string) et son ***salaire*** (un entier positif). Il doit être possible de créer un nouvel employé avec un nom et un salaire et d'effectuer les opérations suivantes sur un objet ***Employe***:\n",
    "<br>\n",
    "- obtenir le nom de l'employé ;\n",
    "- obtenir le salaire de l'employé ;\n",
    "- obtenir un texte descriptif représentant l'employé sous la forme \"nom : salaire\"\n",
    "- augmenter le salaire de l'employé d'un certain pourcentage."
   ]
  },
  {
   "cell_type": "markdown",
   "metadata": {},
   "source": [
    "### Quelles sont les fonctions qu'on va devoir implémenter ? "
   ]
  },
  {
   "cell_type": "markdown",
   "metadata": {},
   "source": [
    "![codingURL](https://media.giphy.com/media/ekjmhJUGHJm7FC4Juo/giphy.gif \"coding\")"
   ]
  },
  {
   "cell_type": "code",
   "execution_count": 8,
   "metadata": {},
   "outputs": [],
   "source": [
    "class Employe :\n",
    "    def __init__(self):\n",
    "        print('code')\n",
    "\n",
    "    def getnom(self):\n",
    "        #code\n",
    "        print('code')\n",
    "\n",
    "    def getsalaire(self):\n",
    "        #code\n",
    "        print('code')\n",
    "\n",
    "    def __str__(self):\n",
    "        #code\n",
    "        print('code')\n",
    "\n",
    "    def augmente(self):\n",
    "        print('code')"
   ]
  },
  {
   "cell_type": "markdown",
   "metadata": {},
   "source": [
    "### Certains paramètres sont peut-être à ajouter dans les en-tête des fonctions !  "
   ]
  },
  {
   "cell_type": "markdown",
   "metadata": {},
   "source": [
    "## Réponse :  "
   ]
  },
  {
   "cell_type": "code",
   "execution_count": 17,
   "metadata": {},
   "outputs": [],
   "source": [
    "class Employe :\n",
    "\n",
    "    def __init__(self, nom, salaire):\n",
    "        self.nom = nom\n",
    "        self.salaire = salaire\n",
    "\n",
    "    def getnom(self):\n",
    "        return self.nom\n",
    "\n",
    "    def getsalaire(self):\n",
    "        return self.salaire\n",
    "\n",
    "    def __str__(self):\n",
    "        return str(self.getnom()) + \" : \" + str(self.getsalaire())\n",
    "\n",
    "    def augmente(self,pourcentage):\n",
    "        self.salaire += self.getsalaire()*pourcentage/100"
   ]
  },
  {
   "cell_type": "code",
   "execution_count": 18,
   "metadata": {},
   "outputs": [
    {
     "name": "stdout",
     "output_type": "stream",
     "text": [
      "Charles : 2750.0\n"
     ]
    }
   ],
   "source": [
    "charles = Employe(\"Charles\", 2500)\n",
    "charles.augmente(10)\n",
    "print(charles)"
   ]
  },
  {
   "cell_type": "markdown",
   "metadata": {},
   "source": [
    "# Question 2 : "
   ]
  },
  {
   "cell_type": "markdown",
   "metadata": {},
   "source": [
    "### a) Donner et corriger les erreurs présentes dans ce code. "
   ]
  },
  {
   "cell_type": "code",
   "execution_count": 21,
   "metadata": {},
   "outputs": [],
   "source": [
    "def ajoutNomFamille(nomfamille):\n",
    "    nom += \" \" + nomfamille"
   ]
  },
  {
   "cell_type": "markdown",
   "metadata": {},
   "source": [
    "![garbageURL](https://media.giphy.com/media/l2JdSySrUdFzZZBpm/giphy.gif \"garbage\")"
   ]
  },
  {
   "cell_type": "markdown",
   "metadata": {},
   "source": [
    "- il manque le paramètre self dans les paramètres\n",
    "- il faut appeler self.nom "
   ]
  },
  {
   "cell_type": "code",
   "execution_count": 23,
   "metadata": {},
   "outputs": [],
   "source": [
    "def ajoutNomFamille(self,nom_famille):\n",
    "    self.nom += \" \" + nom_famille"
   ]
  },
  {
   "cell_type": "markdown",
   "metadata": {},
   "source": [
    "### b) Modifier votre code pour qu'il supporte l'instruction suivante : "
   ]
  },
  {
   "cell_type": "code",
   "execution_count": 30,
   "metadata": {},
   "outputs": [
    {
     "ename": "NameError",
     "evalue": "name 'Mens' is not defined",
     "output_type": "error",
     "traceback": [
      "\u001b[1;31m---------------------------------------------------------------------------\u001b[0m",
      "\u001b[1;31mNameError\u001b[0m                                 Traceback (most recent call last)",
      "\u001b[1;32m<ipython-input-30-8d741a9e5668>\u001b[0m in \u001b[0;36m<module>\u001b[1;34m\u001b[0m\n\u001b[1;32m----> 1\u001b[1;33m \u001b[0mprint\u001b[0m\u001b[1;33m(\u001b[0m\u001b[0mEmploye\u001b[0m\u001b[1;33m(\u001b[0m\u001b[1;34m\"Kim\"\u001b[0m\u001b[1;33m,\u001b[0m \u001b[1;36m2400\u001b[0m\u001b[1;33m)\u001b[0m\u001b[1;33m.\u001b[0m\u001b[0maugmente\u001b[0m\u001b[1;33m(\u001b[0m\u001b[1;36m10\u001b[0m\u001b[1;33m)\u001b[0m\u001b[1;33m.\u001b[0m\u001b[0majoutNomFamille\u001b[0m\u001b[1;33m(\u001b[0m\u001b[0mMens\u001b[0m\u001b[1;33m)\u001b[0m\u001b[1;33m)\u001b[0m\u001b[1;33m\u001b[0m\u001b[1;33m\u001b[0m\u001b[0m\n\u001b[0m",
      "\u001b[1;31mNameError\u001b[0m: name 'Mens' is not defined"
     ]
    }
   ],
   "source": [
    "print(Employe(\"Kim\", 2400).augmente(10).ajoutNomFamille(Mens))"
   ]
  },
  {
   "cell_type": "markdown",
   "metadata": {},
   "source": [
    "![omerURL](https://media.giphy.com/media/xT5LMESsx1kUe8Hiyk/giphy.gif \"omer\")"
   ]
  },
  {
   "cell_type": "code",
   "execution_count": 27,
   "metadata": {},
   "outputs": [],
   "source": [
    "class Employe :\n",
    "\n",
    "    def __init__(self, nom, salaire):\n",
    "        self.nom = nom\n",
    "        self.salaire = salaire\n",
    "\n",
    "    def getnom(self):\n",
    "        return self.nom\n",
    "\n",
    "    def getsalaire(self):\n",
    "        return self.salaire\n",
    "\n",
    "    def __str__(self):\n",
    "        return str(self.getnom()) + \" : \" + str(self.getsalaire())\n",
    "\n",
    "    def augmente(self,pourcentage):\n",
    "        self.salaire += self.getsalaire()*pourcentage/100\n",
    "        return self\n",
    "\n",
    "    def ajoutNomFamille(self,nom_famille):\n",
    "        self.nom += \" \" + nom_famille\n",
    "        return self"
   ]
  },
  {
   "cell_type": "code",
   "execution_count": 29,
   "metadata": {},
   "outputs": [
    {
     "name": "stdout",
     "output_type": "stream",
     "text": [
      "Kim Mens : 2640.0\n"
     ]
    }
   ],
   "source": [
    "print(Employe(\"Kim\", 2400).augmente(10).ajoutNomFamille(\"Mens\"))"
   ]
  },
  {
   "cell_type": "markdown",
   "metadata": {},
   "source": [
    "![yesURL](https://media.giphy.com/media/Qv5JV60U5Qm26Ipp9J/giphy.gif \"yes\")"
   ]
  },
  {
   "cell_type": "markdown",
   "metadata": {},
   "source": [
    "# Question 3"
   ]
  },
  {
   "cell_type": "markdown",
   "metadata": {},
   "source": [
    "![dessinURL](https://media.giphy.com/media/MXM5QQ3jY7WmcmPwTI/giphy.gif \"dessin\")"
   ]
  },
  {
   "cell_type": "markdown",
   "metadata": {},
   "source": [
    "**http://www.pythontutor.com**"
   ]
  },
  {
   "cell_type": "markdown",
   "metadata": {},
   "source": [
    "# <center> Voilà s'est fini pour la QBF, <br> Merci pour votre écoute fidèle, bon WE ! "
   ]
  }
 ],
 "metadata": {
  "kernelspec": {
   "display_name": "Python 3",
   "language": "python",
   "name": "python3"
  },
  "language_info": {
   "codemirror_mode": {
    "name": "ipython",
    "version": 3
   },
   "file_extension": ".py",
   "mimetype": "text/x-python",
   "name": "python",
   "nbconvert_exporter": "python",
   "pygments_lexer": "ipython3",
   "version": "3.8.6"
  }
 },
 "nbformat": 4,
 "nbformat_minor": 4
}
