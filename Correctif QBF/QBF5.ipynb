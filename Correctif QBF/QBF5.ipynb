{
 "cells": [
  {
   "cell_type": "markdown",
   "metadata": {},
   "source": [
    "# <center> QBF 5 "
   ]
  },
  {
   "cell_type": "markdown",
   "metadata": {},
   "source": [
    "## Mise en situation :"
   ]
  },
  {
   "cell_type": "markdown",
   "metadata": {},
   "source": [
    "Une trace de gps peut être sauvegardée sous ce type de donnée : "
   ]
  },
  {
   "cell_type": "code",
   "execution_count": null,
   "metadata": {},
   "outputs": [],
   "source": [
    "[(1.0, (10.10,20.0)),(3.0 ,(10.50 ,20.30)),(5.0 ,(11.0 ,21))]"
   ]
  },
  {
   "cell_type": "markdown",
   "metadata": {},
   "source": [
    "On repère des tuples du type : (t,(x,y)) où t est le temps et x,y la coordonnée. De plus, la liste est triée par point de temps <br> Si on a plusieurs traces, alors on les mets dans une matrice. Ce qui donne une liste de listes imbriquées !"
   ]
  },
  {
   "cell_type": "code",
   "execution_count": 1,
   "metadata": {},
   "outputs": [
    {
     "name": "stdout",
     "output_type": "stream",
     "text": [
      "[[(1.0, (10.1, 20.0)), (3.0, (10.5, 20.3)), (5.0, (11.0, 21))], [(1.0, (15.0, 15.0)), (2.0, (12.0, 17.0)), (3.0, (10.5, 20)), (4.0, (12.0, 21.0))], [(1.0, (15.0, 15.0)), (3.0, (16.0, 21.0)), (5.0, (20.0, 21.0))]]\n"
     ]
    }
   ],
   "source": [
    "t1 = [(1.0 ,(10.10 ,20.0) ) ,(3.0 ,(10.50 ,20.30) ) ,(5.0 ,(11.0 ,21) ) ]\n",
    "t2 = [(1.0 ,(15.00 ,15.0) ) ,(2.0 ,(12.00 ,17.00) ) ,(3.0 ,(10.50 ,20) ) ,(4.0 ,(12.0 ,21.0) ) ]\n",
    "t3 = [(1.0 ,(15.00 ,15.0) ) ,(3.0 ,(16.0 ,21.0) ) ,(5.0 ,(20.0 ,21.0) ) ]\n",
    "l = [t1 ,t2 ,t3]\n",
    "print(l)"
   ]
  },
  {
   "cell_type": "markdown",
   "metadata": {},
   "source": [
    "On définit le croisement entre 2 traces mathématiquement par les relations suivantes : <br>\n",
    "|t1-t2| $\\leq$ $\\Theta_1$ et que la distance euclidienne entre $(x_1,y_1)$ et $(x_2,y_2)$ $\\leq$ $\\Theta_2$ <br>\n",
    "**Pour rappel** : la distance euclidienne entre 2 points est donnée par $\\sqrt{(x_1-x_2)^2+(y_1-y_2)^2}$"
   ]
  },
  {
   "cell_type": "markdown",
   "metadata": {},
   "source": [
    "#### On veut écrire une fonction qui a les spécifications suivantes : "
   ]
  },
  {
   "cell_type": "code",
   "execution_count": null,
   "metadata": {},
   "outputs": [],
   "source": [
    "def matrix_for_traces (l,theta1 , theta2 ):\n",
    "    \"\"\"\n",
    "    pre : une liste de traces\n",
    "    post : retourne une matrice dans laquelle il est indiqu ée si les traces i et j\n",
    "           se croisent ; valeur matrix [i][j] indique si traces i et j se\n",
    "           croisent , selon param è tres theta1 et theta2 .\n",
    "    \"\"\""
   ]
  },
  {
   "cell_type": "markdown",
   "metadata": {},
   "source": [
    "#### Exemple pour $\\Theta_1 = 0.0$ et $\\Theta_2 = 1.0$ :"
   ]
  },
  {
   "cell_type": "code",
   "execution_count": null,
   "metadata": {},
   "outputs": [],
   "source": [
    "t1 = [(1.0 ,(10.10 ,20.0) ) ,(3.0 ,(10.50 ,20.30) ) ,(5.0 ,(11.0 ,21) ) ]\n",
    "t2 = [(1.0 ,(15.00 ,15.0) ) ,(2.0 ,(12.00 ,17.00) ) ,(3.0 ,(10.50 ,20) ) ,(4.0 ,(12.0 ,21.0) ) ]\n",
    "t3 = [(1.0 ,(15.00 ,15.0) ) ,(3.0 ,(16.0 ,21.0) ) ,(5.0 ,(20.0 ,21.0) ) ]\n",
    "#print (matrix_for_traces ([t1 ,t2 ,t3 ] ,0.0 ,1.0))"
   ]
  },
  {
   "cell_type": "markdown",
   "metadata": {},
   "source": [
    "[[1,1,0],[1,1,1],[0,1,1]] ou encore plus visuelle : \n",
    "$\\begin{pmatrix} 1 & 1 & 0 \\\\ 1 & 1 & 1 \\\\ 0 & 1 & 1 \\end{pmatrix}$"
   ]
  },
  {
   "cell_type": "markdown",
   "metadata": {},
   "source": [
    "#### Vous pouvez présumer l'existence des 3 fonctions suivantes :"
   ]
  },
  {
   "cell_type": "code",
   "execution_count": null,
   "metadata": {},
   "outputs": [],
   "source": [
    "def search_time (l,t) :\n",
    "    \"\"\" pre : une liste d’événements l, un temps t\n",
    "        post : l’index du premier élément dans l supérieur où égal à t; len(l) si un\n",
    "               tel élément n’existe pas\n",
    "    \"\"\"\n",
    "\n",
    "def absolute (v1 ,v2) :\n",
    "    \"\"\" pre : v1 et v2 deux nombres\n",
    "        post : la fonction retourne |v1 -v2|\n",
    "    \"\"\"\n",
    "\n",
    "def euclidian_distance (c1 ,c2) :\n",
    "    \"\"\" pre : deux coordonnées c1 =(x1 ,y1) et c2 =(x2 ,y2)\n",
    "        post : la fonction retourne la distance euclidienne entre c1 et c2\n",
    "    \"\"\""
   ]
  },
  {
   "cell_type": "markdown",
   "metadata": {},
   "source": [
    "#### On va à nouveau décomposer le problème en plusieurs étapes : "
   ]
  },
  {
   "cell_type": "markdown",
   "metadata": {},
   "source": [
    "**Étape 1** Décrivez en mots comment résoudre ce problème ; découpez le problème en sous-problèmes et n’hésitez pas à utiliser une ou plusieurs fonctions supplémentaires. L’approche la plus simple est de ne pas utiliser search_time ; considérez cette solution simple d’abord. <br>\n",
    "**Étape 2** Écrivez le code sans utiliser search_time. <br>\n",
    "**Étape 3** Décrivez en mots comment utiliser search_time. <br>\n",
    "**Étape 4** S’il reste du temps, écrivez le code en utilisant search_time. <br>"
   ]
  },
  {
   "cell_type": "markdown",
   "metadata": {},
   "source": [
    "## Etape 1 : (2-3min)"
   ]
  },
  {
   "cell_type": "markdown",
   "metadata": {},
   "source": [
    "Soit considère chaque pair de tuples dans les deux listes pour voir s'il y a croisement <br>\n",
    "Soit utilise search_time pour trouver des candidats dans la liste 2 pour un élément de la liste 1 (à éviter car compliqué) <br>\n",
    "Soit parcourt les 2 listes en même temps."
   ]
  },
  {
   "cell_type": "markdown",
   "metadata": {},
   "source": [
    "## Etape 2 : (10 min)"
   ]
  },
  {
   "cell_type": "markdown",
   "metadata": {},
   "source": [
    "#### Quelles sont les fonctions que vous aller écrire ?  "
   ]
  },
  {
   "cell_type": "code",
   "execution_count": null,
   "metadata": {},
   "outputs": [],
   "source": [
    "def proximity_ij(tuple1,tuple2,theta1,theta2):\n",
    "    \"\"\"pre : tuple1,2 sont les tuples (temps,coordonnées) et theta1,2 les paramètres de calcul\n",
    "       post : retourne True si les tuples se croisent, False sinon\n",
    "    \"\"\"    \n",
    "    if absolue(tuple1[0],tuple2[0]) <= theta1 and euclidian_distance(tuple1[1],tuple2[2])<=theta2:\n",
    "        return True\n",
    "    else:\n",
    "        return False"
   ]
  },
  {
   "cell_type": "code",
   "execution_count": 9,
   "metadata": {},
   "outputs": [],
   "source": [
    "def traces_cross(tr1,tr2,theta1,theta2):\n",
    "    \"\"\"pre : tr1,2 sont des listes de tuples (t,(x,y)) et theta1,2 sont les paramètres de calcul\n",
    "       post : return True si les traces se croisent, False sinon \n",
    "    \"\"\"\n",
    "    for tuple1 in tr1:\n",
    "        for tuple2 in tr2:\n",
    "            if proximity_ij(tuple1,tuple2,theta1,theta2)==True:\n",
    "                return True\n",
    "    return False #si l'exécution ne s'est pas encore arrêté alors elles ne se croisent pas !"
   ]
  },
  {
   "cell_type": "code",
   "execution_count": 10,
   "metadata": {},
   "outputs": [],
   "source": [
    "def matrix(l,theta1,theta2):\n",
    "    \"\"\" pre : l une liste de trace, theta1,2 sont les paramètres de calcul\n",
    "        post : retourne la matrice de croisement des traces dans l\n",
    "    \"\"\"\n",
    "    matrix = [[0 for i in range(len(l))] for j in range(len(l))] #il y aura autant de ligne qu'il y a de traces dans la matrice\n",
    "    for i in range(len(l)):\n",
    "        for j in range(len(l)):\n",
    "            if traces_cross(l[i],l[j],theta1,theta2)==True:  #l[i] et l[j] sont des traces !\n",
    "                matrix[i][j] = 1\n",
    "            else:\n",
    "                matrix[i][j] = 0\n",
    "    return matrix"
   ]
  },
  {
   "cell_type": "markdown",
   "metadata": {},
   "source": [
    "##### Et voilà le tour est joué !"
   ]
  },
  {
   "cell_type": "markdown",
   "metadata": {},
   "source": [
    "Si vous souhaitez tester le code, il faut bien évidemment définir les fonctions absolue et euclidian_distance :)"
   ]
  },
  {
   "cell_type": "code",
   "execution_count": 11,
   "metadata": {},
   "outputs": [],
   "source": [
    "import math as m\n",
    "def absolue(a,b):\n",
    "    return abs(a-b)\n",
    "\n",
    "def euclidian_distance(t1,t2):\n",
    "    return m.sqrt((t1[0]-t2[0])**2+(t1[1]-t2[1])**2)"
   ]
  }
 ],
 "metadata": {
  "kernelspec": {
   "display_name": "Python 3",
   "language": "python",
   "name": "python3"
  },
  "language_info": {
   "codemirror_mode": {
    "name": "ipython",
    "version": 3
   },
   "file_extension": ".py",
   "mimetype": "text/x-python",
   "name": "python",
   "nbconvert_exporter": "python",
   "pygments_lexer": "ipython3",
   "version": "3.7.8"
  }
 },
 "nbformat": 4,
 "nbformat_minor": 4
}
