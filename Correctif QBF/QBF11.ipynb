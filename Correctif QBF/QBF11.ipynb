{
 "cells": [
  {
   "cell_type": "markdown",
   "metadata": {},
   "source": [
    "# <center> QBF 11 "
   ]
  },
  {
   "cell_type": "markdown",
   "metadata": {},
   "source": [
    "# Mise en situation :"
   ]
  },
  {
   "cell_type": "markdown",
   "metadata": {},
   "source": [
    "La gestion des corvées dans votre kot se fait à tour de rôle. Certains étudiants, plus disponibles, peuvent\n",
    "revenir plusieurs fois dans le tour de rôle.<br>Par exemple : <br>\n",
    "\n",
    "    Siegfried, Charles, Sébastien, Siegfried, Kim, Charles,\n",
    "    Siegfried, Charles, Sébastien, Siegfried, Kim, Charles,\n",
    "    Siegfried, Charles, . . . \n",
    "Au fil du temps, des noms doivent être ajoutés ou retirés du tour de rôle. Afin d’écrire un programme\n",
    "pour gérer ce tour de rôle, on va utiliser une liste circulaire avec les prénoms des étudiants. Cette liste\n",
    "est implémentée sous forme d’une structure chaînée circulaire dans la classe CircularLinkedList dont\n",
    "une implémentation incomplète vous est donné ci-après. On vous demande de :\n",
    "1. dessiner la liste après exécution des instructions jusqu’aux lignes 5, 6, 7, 12 et 14 du programme\n",
    "TourDeRole présenté ci-dessous ;\n",
    "2. implémenter la méthode remove qui permet de supprimer de la liste une occurrence d’un prénom\n",
    "donné, telle que spécifiée dans le code fourni ;\n",
    "3. spécifier et implémenter une méthode removeAll qui permet de supprimer de la liste toutes les\n",
    "occurrences d’un prénom donné.\n"
   ]
  },
  {
   "cell_type": "code",
   "execution_count": 5,
   "metadata": {},
   "outputs": [],
   "source": [
    "class TourDeRole :\n",
    "    \n",
    "    @classmethod\n",
    "    def main(cls):\n",
    "        l = CircularLinkedList()\n",
    "        l.add(\"Charles\")\n",
    "        l.add(\"Kim\")\n",
    "        l.add(\"Siegfried\")\n",
    "        l.add(\"Sébastien\")\n",
    "        l.add(\"Charles\")\n",
    "        l.add(\"Siegfried\")\n",
    "        l.remove(\"Kim\")\n",
    "        l.add(\"Charles\")\n",
    "        l.removeAll(\"Charles\")\n",
    "\n",
    "TourDeRole.main()"
   ]
  },
  {
   "cell_type": "markdown",
   "metadata": {},
   "source": [
    "### Voici une implémentation incomplète de la classe CircularLinkedList avec la spécification de la méthode remove."
   ]
  },
  {
   "cell_type": "code",
   "execution_count": 4,
   "metadata": {},
   "outputs": [],
   "source": [
    "class CircularLinkedList :\n",
    "\n",
    "    class Node:\n",
    "        def __init__(self,cargo=None,next=None):\n",
    "            \"\"\" Initialises a new Node object. \"\"\"\n",
    "            self.__cargo = cargo\n",
    "            self.__next  = next\n",
    "\n",
    "        def value(self):\n",
    "            \"\"\" Returns the value of the cargo contained in this node. \"\"\"\n",
    "            return self.__cargo\n",
    "\n",
    "        def next(self):\n",
    "            \"\"\" Returns the next node to which this node links. \"\"\"\n",
    "            return self.__next\n",
    "\n",
    "        def set_next(self,node):\n",
    "            \"\"\" Sets the next node to which this node links to a new node. \"\"\"\n",
    "            self.__next = node\n",
    "    \n",
    "    def __init__(self):\n",
    "        \"\"\" Initialises a new empty circular linked list.\n",
    "        @pre:  -\n",
    "        @post: A new circular linked list with no nodes has been initialised.\n",
    "               The first pointer refers to None.\n",
    "        \"\"\"\n",
    "        self.__first = None       # pointer to the first node\n",
    "        self.__last  = None       # pointer to the last node\n",
    "\n",
    "    def first(self):\n",
    "        \"\"\" Returns the first node of this circular linked list.\n",
    "        @pre:  -\n",
    "        @post: Returns a reference to the first node of this circular linked list,\n",
    "               or None if the circular linked list contains no nodes.\n",
    "        \"\"\"\n",
    "        return self.__first\n",
    "\n",
    "    def last(self):\n",
    "        \"\"\" Returns the last node of this circular linked list.\n",
    "        @pre:  -\n",
    "        @post: Returns a reference to the last node of this circular linked list,\n",
    "               or None if the circular linked list contains no nodes.\n",
    "        \"\"\"\n",
    "        return self.__last\n",
    "\n",
    "    def add(self, cargo):\n",
    "        \"\"\" Adds new Node with given cargo to front of this circular linked list. \n",
    "        @pre:  self is a (possibly empty) CircularLinkedList.\n",
    "        @post: A new Node object is created with the given cargo.\n",
    "               This new Node is added to the front of the circular linked list.\n",
    "               The head of the list now points to this new node.\n",
    "               The last node now points to this new node.\n",
    "        \"\"\"\n",
    "        node = self.Node(cargo,self.first())\n",
    "        self.__first = node\n",
    "        if self.last() == None :   # when this was the first element being added,\n",
    "            self.__last = node     # set the last pointer to this new node\n",
    "        self.last().set_next(node)\n",
    "\n",
    "\n",
    "    def remove(self,cargo):\n",
    "        \"\"\" Removes a node with given cargo from the circular linked list.\n",
    "        @pre:  -\n",
    "        @post: A node with given cargo was removed from the circular linked list.\n",
    "               The removed node, with next pointer set to None, is returned.\n",
    "               In case multiple nodes with this cargo exist, only one is removed. \n",
    "               The list is unchanged if no such node exists or the list is empty.\n",
    "               In that case, None is returned as result.\n",
    "        \"\"\"\n",
    "        # code à fournir\n",
    "\n",
    "    def removeAll(self,cargo):\n",
    "        \"\"\" Removes all nodes with given cargo. \"\"\"\n",
    "        # code à fournir"
   ]
  },
  {
   "cell_type": "markdown",
   "metadata": {},
   "source": [
    "# Circular linke quoi ?"
   ]
  },
  {
   "attachments": {
    "circular.png": {
     "image/png": "[encoded data removed]"
    }
   },
   "cell_type": "markdown",
   "metadata": {},
   "source": [
    "![circular.png](attachment:circular.png)"
   ]
  },
  {
   "cell_type": "markdown",
   "metadata": {},
   "source": [
    "# Question 1 "
   ]
  },
  {
   "cell_type": "markdown",
   "metadata": {},
   "source": [
    "### Dessiner la liste après exécution des instructions jusqu’aux lignes 5, 6, 7, 12 et 14 du programme TourDeRole "
   ]
  },
  {
   "cell_type": "markdown",
   "metadata": {},
   "source": [
    "![drawURL](https://media.giphy.com/media/RnQ9FgCFulW6c/giphy.gif \"draw\")"
   ]
  },
  {
   "cell_type": "markdown",
   "metadata": {},
   "source": [
    "# Question 2 "
   ]
  },
  {
   "cell_type": "markdown",
   "metadata": {},
   "source": [
    "### Quels sont les différents cas particulier qui peuvent se présenter ? "
   ]
  },
  {
   "cell_type": "markdown",
   "metadata": {},
   "source": [
    "- La liste est vide.\n",
    "- Il n'y a qu'un élément dans la liste qu'on doit retirer.\n",
    "- Si on doit supprimer le premier ou le dernier élément."
   ]
  },
  {
   "cell_type": "markdown",
   "metadata": {},
   "source": [
    "### ATTENTION, vous n'avez pas la taille de la liste donc éviter les boucles infinies ! "
   ]
  },
  {
   "cell_type": "markdown",
   "metadata": {},
   "source": [
    "Notre code peut être imaginer de la façon suivante :"
   ]
  },
  {
   "cell_type": "code",
   "execution_count": null,
   "metadata": {},
   "outputs": [],
   "source": [
    "def remove(self, c):\n",
    "    previous <- last\n",
    "    node <- first\n",
    "    \n",
    "    if empty_list: return None\n",
    "    \n",
    "    elif node equals previous and node value equals c: \n",
    "        first <- None\n",
    "        last <- None\n",
    "        node.next <- None\n",
    "        return node\n",
    "    \n",
    "    else:\n",
    "        while True:\n",
    "            if node value equals c:\n",
    "                previous.next <- node.next\n",
    "                if node is first:\n",
    "                    first <- previous.next\n",
    "                if node is last:\n",
    "                    last <- previous\n",
    "                node.next <- None\n",
    "                return node\n",
    "            previous <- node\n",
    "            node <- node.next\n",
    "            \n",
    "            if node is first:\n",
    "                break"
   ]
  },
  {
   "cell_type": "markdown",
   "metadata": {},
   "source": [
    "# Question 3  "
   ]
  },
  {
   "cell_type": "markdown",
   "metadata": {},
   "source": [
    "On doit essentiellement supprimer jusqu'à ce qu'on ne trouve plus aucun noeud dans la liste"
   ]
  },
  {
   "cell_type": "code",
   "execution_count": null,
   "metadata": {},
   "outputs": [],
   "source": [
    "def removeAll(self, cargo):\n",
    "    while True:\n",
    "        if removing equals None:\n",
    "            break"
   ]
  }
 ],
 "metadata": {
  "kernelspec": {
   "display_name": "Python 3",
   "language": "python",
   "name": "python3"
  },
  "language_info": {
   "codemirror_mode": {
    "name": "ipython",
    "version": 3
   },
   "file_extension": ".py",
   "mimetype": "text/x-python",
   "name": "python",
   "nbconvert_exporter": "python",
   "pygments_lexer": "ipython3",
   "version": "3.8.6"
  }
 },
 "nbformat": 4,
 "nbformat_minor": 4
}
