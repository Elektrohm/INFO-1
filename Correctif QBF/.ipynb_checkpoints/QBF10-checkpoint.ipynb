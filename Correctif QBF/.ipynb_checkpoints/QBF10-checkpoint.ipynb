{
 "cells": [
  {
   "cell_type": "markdown",
   "metadata": {},
   "source": [
    "# <center> QBF 10"
   ]
  },
  {
   "cell_type": "markdown",
   "metadata": {},
   "source": [
    "**https://www.overleaf.com/7497889258bwsgpwwjdyzc**"
   ]
  },
  {
   "cell_type": "markdown",
   "metadata": {},
   "source": [
    "# Let's do this boyz (and the 2 girlz) "
   ]
  },
  {
   "cell_type": "markdown",
   "metadata": {},
   "source": [
    "![peakyURL](https://media.giphy.com/media/3o6ZsYKD8mDsfhaiuk/giphy.gif \"peaky\")"
   ]
  },
  {
   "cell_type": "markdown",
   "metadata": {},
   "source": [
    "# Mise en situation"
   ]
  },
  {
   "cell_type": "markdown",
   "metadata": {},
   "source": [
    "Soient une classe Robot, ainsi que diverses classes héritant de Robot de différentes manières. Notamment la classe XYRobot qui affiche les déplacements d’un robot sur un plan XY en utilisant la librairie\n",
    "graphics.py, et la classe TurtleBot qui fait pareil en utilisant la librairie turtle. Voici une implémentation de la classe Robot :\n"
   ]
  },
  {
   "cell_type": "code",
   "execution_count": 2,
   "metadata": {},
   "outputs": [],
   "source": [
    "class Robot :\n",
    "\n",
    "    def __init__(self,n) :\n",
    "        self.__nom = n           # nom du robot\n",
    "        self.__history = []      # mémoire du robot\n",
    "\n",
    "    def getnom(self) :\n",
    "        return self.__nom\n",
    "\n",
    "    def __str__(self) :\n",
    "        return str(self.getnom())\n",
    "\n",
    "    def getHistory(self) :\n",
    "        return self.__history\n",
    "\n",
    "    def addHistory(self,action) :\n",
    "        self.__history.append(action)\n",
    "\n",
    "    def clearHistory(self) :\n",
    "        self.__history = []\n",
    "\n",
    "    def moveforward(self,distance) :\n",
    "        self.addHistory((\"forward\",distance))\n",
    "\n",
    "    def movebackward(self,distance) :\n",
    "        self.addHistory((\"backward\",distance))\n",
    "\n",
    "    def turnright(self) :\n",
    "        self.addHistory((\"right\",90))\n",
    "\n",
    "    def turnleft(self) :\n",
    "        self.addHistory((\"left\",90))\n",
    "\n",
    "    def __undoAction(self,action) :\n",
    "        ...\n",
    "\n",
    "    def unplay(self) :\n",
    "        history = self.getHistory()\n",
    "        for i in range(len(history), 0, -1) : # go through list in opposite order\n",
    "            self.__undoAction(history[i-1])\n",
    "        self.clearHistory() # set history to empty after undoing"
   ]
  },
  {
   "cell_type": "markdown",
   "metadata": {},
   "source": [
    "Vous souhaitez créer un nouveau type de robot-miroir qui en combine deux autres. Ces deux robots\n",
    "fonctionnent en miroir, c’est-à-dire que lorsque l’un des deux avance d’une certaine distance, l’autre\n",
    "recule de la même distance. Et lorsque l’un se tourne dans un sens, l’autre se tourne dans l’autre sens."
   ]
  },
  {
   "cell_type": "markdown",
   "metadata": {},
   "source": [
    "Ce robot-miroir est lui-même un type de robot. Vous décidez dès-lors d’en faire une classe fille de\n",
    "Robot. La méthode d’initialisation du robot-miroir est donnée dans le code suivant :"
   ]
  },
  {
   "cell_type": "code",
   "execution_count": 5,
   "metadata": {},
   "outputs": [],
   "source": [
    "class MirrorRobot(Robot):\n",
    "    \n",
    "    def __init__(self, robot1, robot2):\n",
    "        name = robot1.getnom() + \" | \" + robot2.getnom()\n",
    "        super().__init__(name)\n",
    "        self.r1 = robot1\n",
    "        self.r2 = robot2"
   ]
  },
  {
   "cell_type": "markdown",
   "metadata": {},
   "source": [
    "# Question 1  "
   ]
  },
  {
   "cell_type": "markdown",
   "metadata": {},
   "source": [
    "### Dessinez un diagramme reprenant les classes Robot, XYRobot, TurtleBot, MirrorRobot."
   ]
  },
  {
   "cell_type": "markdown",
   "metadata": {},
   "source": [
    "![drawURL](https://media.giphy.com/media/3o6ZtdCeyBpLQ1J2aA/giphy.gif \"draw\")"
   ]
  },
  {
   "cell_type": "markdown",
   "metadata": {},
   "source": [
    "#### Alors réfléchissons déjà de manière chronologique, qui est au dessus de la chaine ?"
   ]
  },
  {
   "cell_type": "markdown",
   "metadata": {},
   "source": [
    "> On a la classe mère : **Robot**"
   ]
  },
  {
   "cell_type": "markdown",
   "metadata": {},
   "source": [
    "#### Quelles sont les classes filles ?"
   ]
  },
  {
   "cell_type": "markdown",
   "metadata": {},
   "source": [
    "> **TurtleRobot**, **XYRobot** et **MirrorRobot**"
   ]
  },
  {
   "cell_type": "markdown",
   "metadata": {},
   "source": [
    "#### Pour être complet qu'est-ce qu'on devrait rajouter à notre dessin ? "
   ]
  },
  {
   "cell_type": "markdown",
   "metadata": {},
   "source": [
    "> Les **variables** et **méthodes** de chaque classe !"
   ]
  },
  {
   "cell_type": "markdown",
   "metadata": {},
   "source": [
    "#### Et bien faisons maintenant tous ça ensemble :) "
   ]
  },
  {
   "cell_type": "markdown",
   "metadata": {},
   "source": [
    "# Question 2 "
   ]
  },
  {
   "cell_type": "markdown",
   "metadata": {},
   "source": [
    "### Quelles méthodes de la classe Robot devez vous ré-implémenter dans la classe MirrorRobot ?"
   ]
  },
  {
   "cell_type": "markdown",
   "metadata": {},
   "source": [
    "- init\n",
    "- str\n",
    "- moveforward\n",
    "- movebackward \n",
    "- turnright \n",
    "- turnleft\n",
    "- unplay"
   ]
  },
  {
   "cell_type": "markdown",
   "metadata": {},
   "source": [
    "![lotURL](https://media.giphy.com/media/12IiQyXzzAOEMM/giphy.gif \"lot\")"
   ]
  },
  {
   "cell_type": "markdown",
   "metadata": {},
   "source": [
    "### Est-ce qu'il y a réellement beaucoup de ligne de code à écrire ?"
   ]
  },
  {
   "cell_type": "markdown",
   "metadata": {},
   "source": [
    "> **NON !** Vous devez bien évidemment juste appliquer les méthodes des classes XYRobot et TurtleBot sur leur objet correspondant"
   ]
  },
  {
   "cell_type": "markdown",
   "metadata": {},
   "source": [
    "# Question 3 "
   ]
  },
  {
   "cell_type": "markdown",
   "metadata": {},
   "source": [
    "### Donnez une implémentation de ces méthodes."
   ]
  },
  {
   "cell_type": "code",
   "execution_count": 7,
   "metadata": {},
   "outputs": [],
   "source": [
    "    def __init__(self, robot1, robot2):\n",
    "        name = robot1.getnom() + \" | \" + robot2.getnom()\n",
    "        super().__init__(name)\n",
    "        self.r1 = robot1\n",
    "        self.r2 = robot2\n",
    "\n",
    "    def __str__(self):\n",
    "        return str(self.r1) + \" | \" + str(self.r2)\n",
    "\n",
    "    def moveforward(self, distance):\n",
    "        super().moveforward(distance)\n",
    "        self.r1.moveforward(distance)\n",
    "        self.r2.movebackward(distance) # r2 is mirrored\n",
    "\n",
    "    def movebackward(self, distance):\n",
    "        super().movebackward(distance)\n",
    "        self.r1.movebackward(distance)\n",
    "        self.r2.moveforward(distance) # r2 is mirrored\n",
    "\n",
    "    def turnright(self):\n",
    "        super().turnright()\n",
    "        self.r1.turnright()\n",
    "        self.r2.turnleft() # r2 is mirrored\n",
    "\n",
    "    def turnleft(self):\n",
    "        super().turnleft()\n",
    "        self.r1.turnleft()\n",
    "        self.r2.turnright() # r2 is mirrored\n",
    "\n",
    "    def unplay(self):\n",
    "        self.r1.unplay()\n",
    "        self.r2.unplay()\n",
    "        self.clearHistory() # don't forget to clear the history of the mirrorbot too"
   ]
  },
  {
   "cell_type": "markdown",
   "metadata": {},
   "source": [
    "# Question 4 "
   ]
  },
  {
   "cell_type": "markdown",
   "metadata": {},
   "source": [
    "### Que devrait-il se passer lors de l’exécution du code suivant ?"
   ]
  },
  {
   "cell_type": "raw",
   "metadata": {},
   "source": [
    "r2d2 = TurtleBot(\"r2d2\") \n",
    "c3po = XYRobot(\"c3po\") \n",
    "mirrorbot = MirrorRobot(r2d2, c3po) \n",
    "mirrorbot.moveforward(200)\n",
    "mirrorbot.turnleft()\n",
    "mirrorbot.moveforward(100)\n",
    "mirrorbot.turnright()\n",
    "mirrorbot.movebackward(50)\n",
    "print(mirrorbot)\n",
    "mirrorbot.unplay()"
   ]
  },
  {
   "cell_type": "markdown",
   "metadata": {},
   "source": [
    "### Allons voir sur PyCharm, ici ça va faire un carnaaaaage :)  "
   ]
  },
  {
   "cell_type": "markdown",
   "metadata": {},
   "source": [
    "![doneURL](https://media.giphy.com/media/UtEUhkfriklonVdweC/giphy.gif \"done\")"
   ]
  },
  {
   "cell_type": "markdown",
   "metadata": {},
   "source": [
    "# <center> Et voilà fini, merci pour votre participation see ya ! "
   ]
  }
 ],
 "metadata": {
  "kernelspec": {
   "display_name": "Python 3",
   "language": "python",
   "name": "python3"
  },
  "language_info": {
   "codemirror_mode": {
    "name": "ipython",
    "version": 3
   },
   "file_extension": ".py",
   "mimetype": "text/x-python",
   "name": "python",
   "nbconvert_exporter": "python",
   "pygments_lexer": "ipython3",
   "version": "3.8.6"
  }
 },
 "nbformat": 4,
 "nbformat_minor": 4
}
