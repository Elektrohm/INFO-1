{
 "cells": [
  {
   "cell_type": "markdown",
   "metadata": {},
   "source": [
    "# <center> QBF 6 : Correctif"
   ]
  },
  {
   "cell_type": "markdown",
   "metadata": {},
   "source": [
    "###  Pour cette semaine, on vous demande d'implémenter le code avec les spécifications suivantes :"
   ]
  },
  {
   "cell_type": "code",
   "execution_count": 3,
   "metadata": {},
   "outputs": [],
   "source": [
    "def get_max ( filename ) :\n",
    "    \"\"\" pre: filename est une chaîne de caract ères\n",
    "        post : Renvoie le plus grand nombre réel >= 0 trouv é dans le fichier de nom\n",
    "               filename .\n",
    "    Les lignes ne représentant pas un seul nombre réel >= 0 sont ignorées.\n",
    "    Si le fichier n'existe pas ou si une erreur d'entrée/ sortie survient ,\n",
    "    la fonction renvoie la valeur -1, et imprime un message d'erreur .\n",
    "    Si le fichier ne contient aucune ligne valide , renvoie\n",
    "    la valeur -1.\n",
    "    \"\"\""
   ]
  },
  {
   "cell_type": "markdown",
   "metadata": {},
   "source": [
    "![obamaURL](https://media.giphy.com/media/pPhyAv5t9V8djyRFJH/giphy.gif \"obama\")"
   ]
  },
  {
   "cell_type": "markdown",
   "metadata": {},
   "source": [
    "### Pour contextualiser un peu, vous pouvez vous baser sur l'exemple suivant :"
   ]
  },
  {
   "cell_type": "markdown",
   "metadata": {},
   "source": [
    "la méthode retourne 10.0 pour le fichier de contenu suivant :"
   ]
  },
  {
   "cell_type": "code",
   "execution_count": 8,
   "metadata": {},
   "outputs": [
    {
     "data": {
      "text/plain": [
       "'\\n0.345.67\\nhello\\n-543.0\\n500.0 1000.0 2000.0\\n10.0\\n3.1416\\n'"
      ]
     },
     "execution_count": 8,
     "metadata": {},
     "output_type": "execute_result"
    }
   ],
   "source": [
    "\"\"\"\n",
    "0.345.67\n",
    "hello\n",
    "-543.0\n",
    "500.0 1000.0 2000.0\n",
    "10.0\n",
    "3.1416\n",
    "\"\"\""
   ]
  },
  {
   "cell_type": "markdown",
   "metadata": {},
   "source": [
    "### Avant de commencer l'exercice, considérez ce qui suit : "
   ]
  },
  {
   "cell_type": "markdown",
   "metadata": {},
   "source": [
    "- vous pouvez retrouver une liste d'erreur à l'url suivante :  **https://docs.python.org/3/library/exceptions.html**, considérez entre autre l'exception OSError;\n",
    "- Considérez qu'il est possible de mettre un bloc try...except dans un autre bloc try...except.\n",
    "- Exécutez le code suivant pour voir comment Python se comporte dans ce cas :"
   ]
  },
  {
   "cell_type": "code",
   "execution_count": 12,
   "metadata": {},
   "outputs": [
    {
     "name": "stdout",
     "output_type": "stream",
     "text": [
      " Provide a value :2\n",
      "0.5\n"
     ]
    }
   ],
   "source": [
    "def div_value () :\n",
    "    try :\n",
    "        while True :\n",
    "            try :\n",
    "                value = int( input (\" Provide a value :\") )\n",
    "                return 1/ value\n",
    "            except ValueError :\n",
    "                print (\" Incorrect value \")\n",
    "    except ZeroDivisionError :\n",
    "        print (\" Incorrect calculation \")\n",
    "        return -1\n",
    "print ( div_value () )"
   ]
  },
  {
   "cell_type": "markdown",
   "metadata": {},
   "source": [
    "#### Question pour vous, quelles sont les différentes erreurs possibles ?"
   ]
  },
  {
   "cell_type": "markdown",
   "metadata": {},
   "source": [
    "![sweatURL](https://media.giphy.com/media/32mC2kXYWCsg0/giphy.gif \"sweat\")"
   ]
  },
  {
   "cell_type": "markdown",
   "metadata": {},
   "source": [
    "- une division par zéro \n",
    "- un mauvais argument : une lettre, une liste, etc"
   ]
  },
  {
   "cell_type": "code",
   "execution_count": 15,
   "metadata": {},
   "outputs": [
    {
     "name": "stdout",
     "output_type": "stream",
     "text": [
      " Provide a value :0\n",
      " Incorrect calculation \n",
      "-1\n"
     ]
    }
   ],
   "source": [
    "print(div_value())"
   ]
  },
  {
   "cell_type": "code",
   "execution_count": 16,
   "metadata": {},
   "outputs": [
    {
     "name": "stdout",
     "output_type": "stream",
     "text": [
      " Provide a value :a\n",
      " Incorrect value \n",
      " Provide a value :5\n",
      "0.2\n"
     ]
    }
   ],
   "source": [
    "print(div_value())"
   ]
  },
  {
   "cell_type": "markdown",
   "metadata": {},
   "source": [
    "#### Qu\"est ce qu'on peut comprendre de ce code ? Comment fonctionne les try ... except ?"
   ]
  },
  {
   "cell_type": "markdown",
   "metadata": {},
   "source": [
    "Les bloc try except **remonte** dans le code lorsqu'un type d'erreur rencontré n'est pas spécifié dans le premier except. En effet, ici pour la division par zéro, il remonte dans le try le plus haut car **ValueError** n'est pas causé pour une division par 0. On remonte donc dans le premier try où on trouve justement un le except **ZeroDivsionError** "
   ]
  },
  {
   "cell_type": "markdown",
   "metadata": {},
   "source": [
    "## Maintenant à vos claviers :"
   ]
  },
  {
   "cell_type": "markdown",
   "metadata": {},
   "source": [
    "![codingURL](https://media.giphy.com/media/26tn33aiTi1jkl6H6/giphy.gif \"coding\")"
   ]
  },
  {
   "cell_type": "markdown",
   "metadata": {},
   "source": [
    "Vous pouvez travailler sur le lien suivant que je vais mettre dans le chat :  **https://codecollab.io/@proj/SkyBrightBadge**"
   ]
  },
  {
   "cell_type": "markdown",
   "metadata": {},
   "source": [
    "### Alors à quoi faut-il faire gaffe ?"
   ]
  },
  {
   "cell_type": "markdown",
   "metadata": {},
   "source": [
    "![batmanURL](https://media.giphy.com/media/a5viI92PAF89q/giphy.gif \"batman\")"
   ]
  },
  {
   "cell_type": "markdown",
   "metadata": {},
   "source": [
    "- le fichier pourrait ne pas exister\n",
    "- l'ouverture du fichier, si jamais il y a une erreur en cours de route on aimerait qu'il se ferme quand même\n",
    "- ignorer les lignes avec plus d'un chiffre\n",
    "- mettre à jour la valeur max quand on en rencontre une plus grande"
   ]
  },
  {
   "cell_type": "markdown",
   "metadata": {},
   "source": [
    "### ALALALA compliqué compliqué compliqué, mais non hein c'est piece of cake "
   ]
  },
  {
   "cell_type": "markdown",
   "metadata": {},
   "source": [
    "#### il faudra encapsulé avec un try except pour le premier cas :"
   ]
  },
  {
   "cell_type": "code",
   "execution_count": 18,
   "metadata": {},
   "outputs": [
    {
     "name": "stdout",
     "output_type": "stream",
     "text": [
      "some code here and there\n"
     ]
    }
   ],
   "source": [
    "try:\n",
    "    print(\"some code here and there\")\n",
    "except OSError:\n",
    "    print(\"Carnage quand on lit le fichier\")"
   ]
  },
  {
   "cell_type": "markdown",
   "metadata": {},
   "source": [
    "#### il faudra préparer le super with, tu te rappelles de ce bon copain de lundi ?"
   ]
  },
  {
   "cell_type": "code",
   "execution_count": 20,
   "metadata": {},
   "outputs": [
    {
     "name": "stdout",
     "output_type": "stream",
     "text": [
      "['some random shit\\n', 'but we put\\n', ' some numbers\\n', '0.450\\n', '100 145\\n', '50']\n"
     ]
    }
   ],
   "source": [
    "file = open(\"file.txt\",\"w\")\n",
    "file.write(\"some random shit\\nbut we put\\n some numbers\\n0.450\\n100 145\\n50\")\n",
    "file.close()\n",
    "\n",
    "with open(\"file.txt\",'r') as file:\n",
    "    #some useful things and not what i wrote down there\n",
    "    print(file.readlines())"
   ]
  },
  {
   "cell_type": "markdown",
   "metadata": {},
   "source": [
    "#### Pour ignorer les lignes, on peut juste teste float(ligne). Si jamais l'argument est incorrect, on va avoir une ValueError"
   ]
  },
  {
   "cell_type": "code",
   "execution_count": 21,
   "metadata": {},
   "outputs": [
    {
     "name": "stdout",
     "output_type": "stream",
     "text": [
      "ligne ignorée eh eh smart, no ?\n"
     ]
    }
   ],
   "source": [
    "try:\n",
    "    value = float(\"0.512 0.125\")\n",
    "    #do some stuff\n",
    "except ValueError:\n",
    "    print(\"ligne ignorée eh eh smart, no ?\")"
   ]
  },
  {
   "cell_type": "markdown",
   "metadata": {},
   "source": [
    "#### Je pense qu'à ce stade vous savez vérifier si une valeur est plus grande qu'une autre, et la modifier"
   ]
  },
  {
   "cell_type": "markdown",
   "metadata": {},
   "source": [
    "## Donc maintenant, on rassemble tout :  "
   ]
  },
  {
   "attachments": {},
   "cell_type": "markdown",
   "metadata": {},
   "source": [
    "![KuzkoURL](https://media.giphy.com/media/KFszZKN9kP8UJk7BlS/giphy.gif \"Kuzko\")"
   ]
  },
  {
   "cell_type": "code",
   "execution_count": 24,
   "metadata": {},
   "outputs": [],
   "source": [
    "def getMax ( filename ) :\n",
    "    maxvalue = -1\n",
    "    try :\n",
    "        with open ( filename , \"r\" ) as file :\n",
    "            for line in file :\n",
    "                try :\n",
    "                    value = float ( line )\n",
    "                    if value >= maxvalue and value >= 0:\n",
    "                        maxvalue = value\n",
    "                except ValueError :\n",
    "                    pass\n",
    "    except OSError : # peut aussi être IOError :\n",
    "        print ( \" Error reading file \" )\n",
    "    return maxvalue\n"
   ]
  },
  {
   "cell_type": "code",
   "execution_count": 25,
   "metadata": {},
   "outputs": [
    {
     "data": {
      "text/plain": [
       "50.0"
      ]
     },
     "execution_count": 25,
     "metadata": {},
     "output_type": "execute_result"
    }
   ],
   "source": [
    "getMax(\"file.txt\")"
   ]
  },
  {
   "cell_type": "markdown",
   "metadata": {},
   "source": [
    "## <center> C'était RADIO LINFO1101, La radio qui ramène python dans vos campagnes "
   ]
  }
 ],
 "metadata": {
  "kernelspec": {
   "display_name": "Python 3",
   "language": "python",
   "name": "python3"
  },
  "language_info": {
   "codemirror_mode": {
    "name": "ipython",
    "version": 3
   },
   "file_extension": ".py",
   "mimetype": "text/x-python",
   "name": "python",
   "nbconvert_exporter": "python",
   "pygments_lexer": "ipython3",
   "version": "3.8.6"
  }
 },
 "nbformat": 4,
 "nbformat_minor": 4
}
