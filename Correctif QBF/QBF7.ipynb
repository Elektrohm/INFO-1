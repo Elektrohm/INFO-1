{
 "cells": [
  {
   "cell_type": "markdown",
   "metadata": {},
   "source": [
    "# <center> QBF 7 :"
   ]
  },
  {
   "cell_type": "markdown",
   "metadata": {},
   "source": [
    "# Question 1 : "
   ]
  },
  {
   "cell_type": "code",
   "execution_count": 2,
   "metadata": {},
   "outputs": [],
   "source": [
    "def topk_words (words , k) :\n",
    "    \"\"\" pre: words est une liste de mots , k est un nombre entier > 0\n",
    "        post : Renvoie les k mots les plus fréquents dans la liste de mots ,\n",
    "            en utilisant une liste de tuples (compte , mot ) en ordre décroissant ;\n",
    "            si plusieurs mots ont la même fréquence que le k^me mot , tous les mots\n",
    "            avec cette fréquence sont retournés.\n",
    "            Par exemple , sur cette liste de mots :\n",
    "            [\" while \" , \"the\" , \" congress \" , \"of\" , \" the\" , \" republic \", \" endlessly \" ,\n",
    "            \" debates \" , \" this \" , \" alarming \" , \" chain \" , \"of\" , \" events \" , \"the\" ,\n",
    "            \" supreme \" , \" chancellor \" , \"has\" , \" secretly \" , \" dispatched \" , \"two\" ,\n",
    "            \" jedi \" , \" knights \"\n",
    "            ]\n",
    "            avec k=2 , la fonction doit retourner\n",
    "            [(3 ,\" the \") , (2 ,\" of \")]\n",
    "            avec k=3 , la fonction retourne tous les mots , puisque tous les\n",
    "            mots qui restent ont la même fréquence (1).\n",
    "            Si le nombre de mots dans la liste est moins que k, on retourne\n",
    "            tous les mots .\n",
    "    \"\"\"\n"
   ]
  },
  {
   "cell_type": "markdown",
   "metadata": {},
   "source": [
    "# Avant de commencer : "
   ]
  },
  {
   "cell_type": "markdown",
   "metadata": {},
   "source": [
    "#### Est-ce qu’il est possible de décomposer le problème ? Considérez :\n"
   ]
  },
  {
   "cell_type": "markdown",
   "metadata": {},
   "source": [
    "- la création d’un dictionnaire contenant la fréquence de chaque mot <br>\n",
    "- la création d’une fonction pour déterminer les top-k tuples d’une liste de tuples"
   ]
  },
  {
   "cell_type": "markdown",
   "metadata": {},
   "source": [
    "#### Remarque :"
   ]
  },
  {
   "cell_type": "markdown",
   "metadata": {},
   "source": [
    "- on peut trier des tuples dans l’ordere inverse en utilisant sorted(l,reverse=True).\n",
    "- faites attention : les dictionnaires ne sont pas ordonnés."
   ]
  },
  {
   "cell_type": "markdown",
   "metadata": {},
   "source": [
    "## Ok, let's do it !  "
   ]
  },
  {
   "cell_type": "markdown",
   "metadata": {},
   "source": [
    "![codingURL](https://media.giphy.com/media/PiQejEf31116URju4V/giphy.gif \"coding\")"
   ]
  },
  {
   "cell_type": "markdown",
   "metadata": {},
   "source": [
    "### Pendant 2min, trouver toutes les fonctions qu'on va devoir implémenter. Expliquer les en français "
   ]
  },
  {
   "cell_type": "code",
   "execution_count": 3,
   "metadata": {},
   "outputs": [],
   "source": [
    "def counts(words):\n",
    "    \"\"\"\n",
    "    pre: words, liste de mots.\n",
    "    post: retourne un dictionnaire du type, {word : occurence}\n",
    "    \"\"\""
   ]
  },
  {
   "cell_type": "code",
   "execution_count": 4,
   "metadata": {},
   "outputs": [],
   "source": [
    "def topk_words(words,k):\n",
    "    \"\"\"\n",
    "    voir énoncé\n",
    "    \"\"\""
   ]
  },
  {
   "cell_type": "code",
   "execution_count": 5,
   "metadata": {},
   "outputs": [],
   "source": [
    "def topk(tuples,k):\n",
    "    \"\"\"\n",
    "    pre: tuples, liste de tuples du type [(occurence, word)]\n",
    "         k, int\n",
    "    post: retourne l'énoncé. \n",
    "    \"\"\""
   ]
  },
  {
   "cell_type": "markdown",
   "metadata": {},
   "source": [
    "## Comment implémenter tous ça ?"
   ]
  },
  {
   "cell_type": "code",
   "execution_count": 6,
   "metadata": {},
   "outputs": [],
   "source": [
    "def counts(words):\n",
    "    dico = {}\n",
    "    for word in words:\n",
    "        dico[word] = dico.get(word,0)+1\n",
    "    return dico"
   ]
  },
  {
   "cell_type": "code",
   "execution_count": 7,
   "metadata": {},
   "outputs": [],
   "source": [
    "def topk(tuples,k):\n",
    "    sorted_tuples = sorted (tuples , reverse = True )\n",
    "    \n",
    "    result = sorted_tuples [0:k]\n",
    "    k2 = k\n",
    "    \n",
    "    while k2 < len( sorted_tuples ) and sorted_tuples [k2 ][0] == sorted_tuples [k -1][0]:\n",
    "        result . append ( sorted_tuples [k2] )\n",
    "        k2 += 1\n",
    "    \n",
    "    return result\n"
   ]
  },
  {
   "cell_type": "code",
   "execution_count": 8,
   "metadata": {},
   "outputs": [],
   "source": [
    "def topk_words ( words , k ) :\n",
    "    freqs = counts ( words )\n",
    "    tuples = []\n",
    "    \n",
    "    for word , count in freqs . items () :\n",
    "        tuples . append ( (count , word ) )\n",
    "        \n",
    "    return topk (tuples ,k)\n"
   ]
  },
  {
   "cell_type": "markdown",
   "metadata": {},
   "source": [
    "# Et voilà le tour est joué ! "
   ]
  },
  {
   "cell_type": "markdown",
   "metadata": {},
   "source": [
    "## <center> Merci pour votre écoute fidèle à RADIO LINFO1101 <br>Bon Weekend à tous ! "
   ]
  },
  {
   "cell_type": "markdown",
   "metadata": {},
   "source": [
    "![weekendURL](https://media.giphy.com/media/fw2caEoXBisMJwksAu/giphy.gif \"weekend\")"
   ]
  }
 ],
 "metadata": {
  "kernelspec": {
   "display_name": "Python 3",
   "language": "python",
   "name": "python3"
  },
  "language_info": {
   "codemirror_mode": {
    "name": "ipython",
    "version": 3
   },
   "file_extension": ".py",
   "mimetype": "text/x-python",
   "name": "python",
   "nbconvert_exporter": "python",
   "pygments_lexer": "ipython3",
   "version": "3.8.6"
  }
 },
 "nbformat": 4,
 "nbformat_minor": 4
}
