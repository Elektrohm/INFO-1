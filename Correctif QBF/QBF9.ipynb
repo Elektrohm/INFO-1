{
 "cells": [
  {
   "cell_type": "markdown",
   "metadata": {},
   "source": [
    "# <center> QBF 9 "
   ]
  },
  {
   "cell_type": "markdown",
   "metadata": {},
   "source": [
    "**https://www.overleaf.com/8958435465dfsbdycjkfhj**"
   ]
  },
  {
   "cell_type": "markdown",
   "metadata": {},
   "source": [
    "# Situation : "
   ]
  },
  {
   "cell_type": "markdown",
   "metadata": {},
   "source": [
    "Dans le contexte de la gestion d’une médiathèque (contenant des CDs, DVDs, livres, etc.), chacun des\n",
    "objets de cette médiathèque est une instance de la classe Item ci-dessous :\n"
   ]
  },
  {
   "cell_type": "code",
   "execution_count": 1,
   "metadata": {},
   "outputs": [],
   "source": [
    "class Item :\n",
    "\n",
    "    def __init__(self,author,title,serial):\n",
    "        \"\"\"\n",
    "        Méthode d'initialisation.\n",
    "        @pre  author et title sont des valeurs de type String\n",
    "              serial est un entier > 0\n",
    "        @post Une instance de la classe est créée, et représente un objet ayant\n",
    "              comme auteur author, comme titre title et comme numéro de série serial\n",
    "        \"\"\"\n",
    "        self.__author = author\n",
    "        self.__title = title\n",
    "        self.__serial = serial\n",
    "\n",
    "    def __str__(self):\n",
    "        \"\"\"\n",
    "        Méthode de conversion en string.\n",
    "        @pre  -\n",
    "        @post le string retourné contient une représentation de cet objet sous la\n",
    "              forme: [num série] Auteur, Titre\n",
    "        \"\"\"\n",
    "        return \"[{}] {}, {}\".format(self.__serial,self.__author,self.__title)"
   ]
  },
  {
   "cell_type": "markdown",
   "metadata": {},
   "source": [
    "On vous demande : <br>\n",
    "\n",
    "- D'écrire entièrement la classe CD. Un CD est lui même un item de la bibliothèque avec une information supplémentaire: la durée de l'album en secondes (un entier suffira).\n",
    "\n",
    "Exemple de création : cd = CD(\"Radiohead\",\"The Bends\",2917).\n",
    "Paramètres du constructeur CD() : \n",
    "1. auteur, str\n",
    "2. titre, str\n",
    "3. durée en secondes, int \n",
    "\n",
    "On doit pouvoir obtenir une représentation textuelle d'un CD grâce à la méthode $__str__$, qui renvoie par exemple: <br>\n",
    "[100000] Radiohead, The Bends (2917 s)\n",
    "\n",
    "Remarquez que chaque Item possède un numéro de série **serial** propre à l'objet (pour pouvoir différencier plusieurs exemplaires d'un même livre par exemple). Ce numéro de série est fourni en paramètre du constructeur pour un Item mais doit être généré automatiquement et commencer à 100000 pour un CD."
   ]
  },
  {
   "cell_type": "markdown",
   "metadata": {},
   "source": [
    "# Implémentation : "
   ]
  },
  {
   "cell_type": "markdown",
   "metadata": {},
   "source": [
    "Quelles sont les méthodes que l'on va devoir implémenter ?"
   ]
  },
  {
   "cell_type": "markdown",
   "metadata": {},
   "source": [
    "**Un indice :** "
   ]
  },
  {
   "cell_type": "markdown",
   "metadata": {},
   "source": [
    "![consURL](https://media.giphy.com/media/kcrO3B49pOPAkxUHsD/giphy.gif \"cons\")"
   ]
  },
  {
   "cell_type": "markdown",
   "metadata": {},
   "source": [
    "- Le constructeur (eh oui)\n",
    "- la méthode str\n",
    "- une variable de classe pour les numéros de séries\n",
    "- des méthodes accédeurs, pourquoi ? car on va travailler avec des variables privées"
   ]
  },
  {
   "cell_type": "markdown",
   "metadata": {},
   "source": [
    "###  Le constructeur :"
   ]
  },
  {
   "cell_type": "code",
   "execution_count": 4,
   "metadata": {},
   "outputs": [],
   "source": [
    "class CD(Item):\n",
    "    \n",
    "    __serialID = 100000 #variable de classe privée\n",
    "    \n",
    "    def __init__(self, auteur, titre, duree):\n",
    "        super().__init__(auteur, titre, serial)\n",
    "        self.__duree = duree\n",
    "        CD.__serialID += 1 "
   ]
  },
  {
   "cell_type": "markdown",
   "metadata": {},
   "source": [
    "### La méthode magique $__str__$ : "
   ]
  },
  {
   "cell_type": "code",
   "execution_count": 6,
   "metadata": {},
   "outputs": [],
   "source": [
    "def __str__(self):\n",
    "    cd_string = f\"{super().__str__()} ({str(self.get_duree())} s)\"\n",
    "    return cd_string"
   ]
  },
  {
   "cell_type": "markdown",
   "metadata": {},
   "source": [
    "### Le getter : "
   ]
  },
  {
   "cell_type": "code",
   "execution_count": 7,
   "metadata": {},
   "outputs": [],
   "source": [
    "def get_duree(self):\n",
    "    return self.__duree"
   ]
  },
  {
   "cell_type": "markdown",
   "metadata": {},
   "source": [
    "#### Maintenant on fait la fusion de tout "
   ]
  },
  {
   "cell_type": "markdown",
   "metadata": {},
   "source": [
    "![fusionURL](https://media.giphy.com/media/PvDM6QHuLPCxi/giphy.gif \"fusion\")"
   ]
  },
  {
   "cell_type": "code",
   "execution_count": 11,
   "metadata": {},
   "outputs": [],
   "source": [
    "class CD(Item):\n",
    "    \n",
    "    __serialID = 100000 #variable de classe privée\n",
    "    \n",
    "    def __init__(self, auteur, titre, duree):\n",
    "        super().__init__(auteur, titre, CD.__serialID)\n",
    "        self.__duree = duree\n",
    "        CD.__serialID += 1 \n",
    "        \n",
    "        \n",
    "    def __str__(self):\n",
    "        cd_string = f\"{super().__str__()} ({str(self.get_duree())} s)\"\n",
    "        return cd_string\n",
    "    \n",
    "    def get_duree(self):\n",
    "        return self.__duree"
   ]
  },
  {
   "cell_type": "code",
   "execution_count": 12,
   "metadata": {},
   "outputs": [
    {
     "name": "stdout",
     "output_type": "stream",
     "text": [
      "[100000] Rammstein, Sonne (300 s)\n",
      "[100001] Caliban, Intoxicated (450 s)\n",
      "[100002] Linkin Park, Numb (327 s)\n"
     ]
    }
   ],
   "source": [
    "cd1 = CD(\"Rammstein\",\"Sonne\",300)\n",
    "cd2 = CD(\"Caliban\",\"Intoxicated\",450)\n",
    "cd3 = CD(\"Linkin Park\",\"Numb\",327)\n",
    "\n",
    "print(cd1)\n",
    "print(cd2)\n",
    "print(cd3)"
   ]
  },
  {
   "cell_type": "markdown",
   "metadata": {},
   "source": [
    "![wkURL](https://media.giphy.com/media/U3t5kVx4M8DkRa16Sm/giphy.gif \"wk\")"
   ]
  },
  {
   "cell_type": "markdown",
   "metadata": {},
   "source": [
    "# <center> Merci pour votre écoute, et à lundi  "
   ]
  }
 ],
 "metadata": {
  "kernelspec": {
   "display_name": "Python 3",
   "language": "python",
   "name": "python3"
  },
  "language_info": {
   "codemirror_mode": {
    "name": "ipython",
    "version": 3
   },
   "file_extension": ".py",
   "mimetype": "text/x-python",
   "name": "python",
   "nbconvert_exporter": "python",
   "pygments_lexer": "ipython3",
   "version": "3.8.6"
  }
 },
 "nbformat": 4,
 "nbformat_minor": 4
}
